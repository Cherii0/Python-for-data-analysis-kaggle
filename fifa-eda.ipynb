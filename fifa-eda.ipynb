{
 "cells": [
  {
   "cell_type": "markdown",
   "id": "344d1005",
   "metadata": {
    "papermill": {
     "duration": 0.030362,
     "end_time": "2024-07-04T11:59:18.871714",
     "exception": false,
     "start_time": "2024-07-04T11:59:18.841352",
     "status": "completed"
    },
    "tags": []
   },
   "source": [
    "Fifa dataset contains many interesting information about football players. Many of the information\n",
    "are usable like statistics for defense, attack, or speed. Thanks to its variety there is very good opportunity to impove data wrangling and data visualisation skills. For this specyfic dataset ML models could be implemented sucessfully but I decided to restricts to EDA analysis and finding insights. Therefore I will make attempt to answer some questions"
   ]
  },
  {
   "cell_type": "code",
   "execution_count": 1,
   "id": "9a83b567",
   "metadata": {
    "execution": {
     "iopub.execute_input": "2024-07-04T11:59:18.935254Z",
     "iopub.status.busy": "2024-07-04T11:59:18.934818Z",
     "iopub.status.idle": "2024-07-04T11:59:21.518635Z",
     "shell.execute_reply": "2024-07-04T11:59:21.517300Z"
    },
    "papermill": {
     "duration": 2.619696,
     "end_time": "2024-07-04T11:59:21.521420",
     "exception": false,
     "start_time": "2024-07-04T11:59:18.901724",
     "status": "completed"
    },
    "tags": []
   },
   "outputs": [],
   "source": [
    "import pandas as pd\n",
    "import numpy as np\n",
    "import matplotlib.pyplot as plt\n",
    "import seaborn as sns"
   ]
  },
  {
   "cell_type": "markdown",
   "id": "b1a74f12",
   "metadata": {
    "papermill": {
     "duration": 0.03008,
     "end_time": "2024-07-04T11:59:21.581861",
     "exception": false,
     "start_time": "2024-07-04T11:59:21.551781",
     "status": "completed"
    },
    "tags": []
   },
   "source": [
    "# Read and split data"
   ]
  },
  {
   "cell_type": "code",
   "execution_count": 2,
   "id": "49f99881",
   "metadata": {
    "execution": {
     "iopub.execute_input": "2024-07-04T11:59:21.644260Z",
     "iopub.status.busy": "2024-07-04T11:59:21.643661Z",
     "iopub.status.idle": "2024-07-04T11:59:22.540173Z",
     "shell.execute_reply": "2024-07-04T11:59:22.538795Z"
    },
    "papermill": {
     "duration": 0.931354,
     "end_time": "2024-07-04T11:59:22.543141",
     "exception": false,
     "start_time": "2024-07-04T11:59:21.611787",
     "status": "completed"
    },
    "tags": []
   },
   "outputs": [],
   "source": [
    "dataset = pd.read_csv(\"/kaggle/input/fifa-22-complete-player-dataset/players_22.csv\", low_memory=False)"
   ]
  },
  {
   "cell_type": "markdown",
   "id": "82ae3c38",
   "metadata": {
    "papermill": {
     "duration": 0.029583,
     "end_time": "2024-07-04T11:59:22.603316",
     "exception": false,
     "start_time": "2024-07-04T11:59:22.573733",
     "status": "completed"
    },
    "tags": []
   },
   "source": [
    "* We will make split of dataset for numerical columns dataset and text columns dataset and concatenate id column to string dataset"
   ]
  },
  {
   "cell_type": "code",
   "execution_count": 3,
   "id": "17f0ad01",
   "metadata": {
    "execution": {
     "iopub.execute_input": "2024-07-04T11:59:22.665636Z",
     "iopub.status.busy": "2024-07-04T11:59:22.665232Z",
     "iopub.status.idle": "2024-07-04T11:59:22.726261Z",
     "shell.execute_reply": "2024-07-04T11:59:22.724939Z"
    },
    "papermill": {
     "duration": 0.095796,
     "end_time": "2024-07-04T11:59:22.729288",
     "exception": false,
     "start_time": "2024-07-04T11:59:22.633492",
     "status": "completed"
    },
    "tags": []
   },
   "outputs": [],
   "source": [
    "_id = dataset[\"sofifa_id\"].astype(str)\n",
    "dataset_num, dataset_str = dataset.select_dtypes(include=\"number\"), dataset.select_dtypes(include=\"object\")\n",
    "dataset_str = pd.concat([dataset_str, _id], axis = 1)\n",
    "del dataset"
   ]
  },
  {
   "cell_type": "code",
   "execution_count": 4,
   "id": "2de93564",
   "metadata": {
    "execution": {
     "iopub.execute_input": "2024-07-04T11:59:22.793753Z",
     "iopub.status.busy": "2024-07-04T11:59:22.793354Z",
     "iopub.status.idle": "2024-07-04T11:59:22.803361Z",
     "shell.execute_reply": "2024-07-04T11:59:22.801839Z"
    },
    "papermill": {
     "duration": 0.046579,
     "end_time": "2024-07-04T11:59:22.806324",
     "exception": false,
     "start_time": "2024-07-04T11:59:22.759745",
     "status": "completed"
    },
    "tags": []
   },
   "outputs": [
    {
     "data": {
      "text/plain": [
       "dtype('O')"
      ]
     },
     "execution_count": 4,
     "metadata": {},
     "output_type": "execute_result"
    }
   ],
   "source": [
    "dataset_str[\"sofifa_id\"].dtype"
   ]
  },
  {
   "cell_type": "markdown",
   "id": "9e6ba58c",
   "metadata": {
    "papermill": {
     "duration": 0.030014,
     "end_time": "2024-07-04T11:59:22.867384",
     "exception": false,
     "start_time": "2024-07-04T11:59:22.837370",
     "status": "completed"
    },
    "tags": []
   },
   "source": [
    "# Locate columns to be dropped within string columns"
   ]
  },
  {
   "cell_type": "code",
   "execution_count": 5,
   "id": "7351d816",
   "metadata": {
    "execution": {
     "iopub.execute_input": "2024-07-04T11:59:22.929571Z",
     "iopub.status.busy": "2024-07-04T11:59:22.929139Z",
     "iopub.status.idle": "2024-07-04T11:59:22.934805Z",
     "shell.execute_reply": "2024-07-04T11:59:22.933579Z"
    },
    "papermill": {
     "duration": 0.039868,
     "end_time": "2024-07-04T11:59:22.937403",
     "exception": false,
     "start_time": "2024-07-04T11:59:22.897535",
     "status": "completed"
    },
    "tags": []
   },
   "outputs": [],
   "source": [
    "string_columns_drop = []"
   ]
  },
  {
   "cell_type": "code",
   "execution_count": 6,
   "id": "d13d0ff9",
   "metadata": {
    "execution": {
     "iopub.execute_input": "2024-07-04T11:59:22.999366Z",
     "iopub.status.busy": "2024-07-04T11:59:22.998924Z",
     "iopub.status.idle": "2024-07-04T11:59:23.006399Z",
     "shell.execute_reply": "2024-07-04T11:59:23.005354Z"
    },
    "papermill": {
     "duration": 0.041579,
     "end_time": "2024-07-04T11:59:23.008971",
     "exception": false,
     "start_time": "2024-07-04T11:59:22.967392",
     "status": "completed"
    },
    "tags": []
   },
   "outputs": [
    {
     "data": {
      "text/plain": [
       "'https://sofifa.com/player/158023/lionel-messi/220002'"
      ]
     },
     "execution_count": 6,
     "metadata": {},
     "output_type": "execute_result"
    }
   ],
   "source": [
    "dataset_str[\"player_url\"][0]"
   ]
  },
  {
   "cell_type": "markdown",
   "id": "41ad5d57",
   "metadata": {
    "papermill": {
     "duration": 0.088736,
     "end_time": "2024-07-04T11:59:23.128377",
     "exception": false,
     "start_time": "2024-07-04T11:59:23.039641",
     "status": "completed"
    },
    "tags": []
   },
   "source": [
    "* player url contains many more information about player, for example his matches history which could be used in future analysis but present dataset is sufficient"
   ]
  },
  {
   "cell_type": "code",
   "execution_count": 7,
   "id": "8e275c10",
   "metadata": {
    "execution": {
     "iopub.execute_input": "2024-07-04T11:59:23.190527Z",
     "iopub.status.busy": "2024-07-04T11:59:23.190087Z",
     "iopub.status.idle": "2024-07-04T11:59:23.195935Z",
     "shell.execute_reply": "2024-07-04T11:59:23.194815Z"
    },
    "papermill": {
     "duration": 0.040045,
     "end_time": "2024-07-04T11:59:23.198473",
     "exception": false,
     "start_time": "2024-07-04T11:59:23.158428",
     "status": "completed"
    },
    "tags": []
   },
   "outputs": [],
   "source": [
    "string_columns_drop.extend([col for col in dataset_str.columns if \"url\" in col])"
   ]
  },
  {
   "cell_type": "markdown",
   "id": "4d89ea5a",
   "metadata": {
    "papermill": {
     "duration": 0.030334,
     "end_time": "2024-07-04T11:59:23.259592",
     "exception": false,
     "start_time": "2024-07-04T11:59:23.229258",
     "status": "completed"
    },
    "tags": []
   },
   "source": [
    "* does long_name is needed when we have short name?"
   ]
  },
  {
   "cell_type": "code",
   "execution_count": 8,
   "id": "4a5030eb",
   "metadata": {
    "execution": {
     "iopub.execute_input": "2024-07-04T11:59:23.323642Z",
     "iopub.status.busy": "2024-07-04T11:59:23.322698Z",
     "iopub.status.idle": "2024-07-04T11:59:23.343444Z",
     "shell.execute_reply": "2024-07-04T11:59:23.342096Z"
    },
    "papermill": {
     "duration": 0.055583,
     "end_time": "2024-07-04T11:59:23.346336",
     "exception": false,
     "start_time": "2024-07-04T11:59:23.290753",
     "status": "completed"
    },
    "tags": []
   },
   "outputs": [
    {
     "data": {
      "text/plain": [
       "short_name\n",
       "False    19239\n",
       "Name: count, dtype: int64"
      ]
     },
     "execution_count": 8,
     "metadata": {},
     "output_type": "execute_result"
    }
   ],
   "source": [
    "dataset_str[\"short_name\"].isnull().value_counts()"
   ]
  },
  {
   "cell_type": "code",
   "execution_count": 9,
   "id": "4c9de9b3",
   "metadata": {
    "execution": {
     "iopub.execute_input": "2024-07-04T11:59:23.410816Z",
     "iopub.status.busy": "2024-07-04T11:59:23.410390Z",
     "iopub.status.idle": "2024-07-04T11:59:23.423356Z",
     "shell.execute_reply": "2024-07-04T11:59:23.421973Z"
    },
    "papermill": {
     "duration": 0.048107,
     "end_time": "2024-07-04T11:59:23.425839",
     "exception": false,
     "start_time": "2024-07-04T11:59:23.377732",
     "status": "completed"
    },
    "tags": []
   },
   "outputs": [
    {
     "data": {
      "text/plain": [
       "long_name\n",
       "False    19239\n",
       "Name: count, dtype: int64"
      ]
     },
     "execution_count": 9,
     "metadata": {},
     "output_type": "execute_result"
    }
   ],
   "source": [
    "dataset_str[\"long_name\"].isnull().value_counts()"
   ]
  },
  {
   "cell_type": "markdown",
   "id": "60be8335",
   "metadata": {
    "papermill": {
     "duration": 0.030055,
     "end_time": "2024-07-04T11:59:23.486889",
     "exception": false,
     "start_time": "2024-07-04T11:59:23.456834",
     "status": "completed"
    },
    "tags": []
   },
   "source": [
    "* we can drop one of thease columns later"
   ]
  },
  {
   "cell_type": "code",
   "execution_count": 10,
   "id": "8208d024",
   "metadata": {
    "execution": {
     "iopub.execute_input": "2024-07-04T11:59:23.549968Z",
     "iopub.status.busy": "2024-07-04T11:59:23.549471Z",
     "iopub.status.idle": "2024-07-04T11:59:23.554840Z",
     "shell.execute_reply": "2024-07-04T11:59:23.553771Z"
    },
    "papermill": {
     "duration": 0.039619,
     "end_time": "2024-07-04T11:59:23.557228",
     "exception": false,
     "start_time": "2024-07-04T11:59:23.517609",
     "status": "completed"
    },
    "tags": []
   },
   "outputs": [],
   "source": [
    "string_columns_drop.append(\"long_name\")"
   ]
  },
  {
   "cell_type": "markdown",
   "id": "933cfcbb",
   "metadata": {
    "papermill": {
     "duration": 0.030028,
     "end_time": "2024-07-04T11:59:23.617808",
     "exception": false,
     "start_time": "2024-07-04T11:59:23.587780",
     "status": "completed"
    },
    "tags": []
   },
   "source": [
    "* player position contains many positions in one cell, analysis with all thease positions may provide more detailed analysis but for this analysis one position for player is enought, hence we will split this column and keep only first (prob main position)"
   ]
  },
  {
   "cell_type": "code",
   "execution_count": 11,
   "id": "12e09951",
   "metadata": {
    "execution": {
     "iopub.execute_input": "2024-07-04T11:59:23.681006Z",
     "iopub.status.busy": "2024-07-04T11:59:23.680620Z",
     "iopub.status.idle": "2024-07-04T11:59:23.820900Z",
     "shell.execute_reply": "2024-07-04T11:59:23.819798Z"
    },
    "papermill": {
     "duration": 0.175378,
     "end_time": "2024-07-04T11:59:23.823824",
     "exception": false,
     "start_time": "2024-07-04T11:59:23.648446",
     "status": "completed"
    },
    "tags": []
   },
   "outputs": [],
   "source": [
    "dataset_str[\"player_positions\"] = dataset_str[\"player_positions\"].str.split(', ',expand=True)[0]"
   ]
  },
  {
   "cell_type": "markdown",
   "id": "d367c451",
   "metadata": {
    "papermill": {
     "duration": 0.03165,
     "end_time": "2024-07-04T11:59:23.886562",
     "exception": false,
     "start_time": "2024-07-04T11:59:23.854912",
     "status": "completed"
    },
    "tags": []
   },
   "source": [
    "* there are few more columns related to position"
   ]
  },
  {
   "cell_type": "code",
   "execution_count": 12,
   "id": "74c96b53",
   "metadata": {
    "execution": {
     "iopub.execute_input": "2024-07-04T11:59:23.976291Z",
     "iopub.status.busy": "2024-07-04T11:59:23.975600Z",
     "iopub.status.idle": "2024-07-04T11:59:23.991510Z",
     "shell.execute_reply": "2024-07-04T11:59:23.986227Z"
    },
    "papermill": {
     "duration": 0.069256,
     "end_time": "2024-07-04T11:59:23.995336",
     "exception": false,
     "start_time": "2024-07-04T11:59:23.926080",
     "status": "completed"
    },
    "tags": []
   },
   "outputs": [
    {
     "data": {
      "text/plain": [
       "['player_positions', 'club_position', 'nation_position']"
      ]
     },
     "execution_count": 12,
     "metadata": {},
     "output_type": "execute_result"
    }
   ],
   "source": [
    "positions_variables = [col for col in dataset_str.columns if \"position\" in col and \"positioning\" not in col]\n",
    "positions_variables"
   ]
  },
  {
   "cell_type": "markdown",
   "id": "18bf88f2",
   "metadata": {
    "papermill": {
     "duration": 0.030835,
     "end_time": "2024-07-04T11:59:24.064865",
     "exception": false,
     "start_time": "2024-07-04T11:59:24.034030",
     "status": "completed"
    },
    "tags": []
   },
   "source": [
    "* lets find out whether club/nation and player positions are needed to be separated "
   ]
  },
  {
   "cell_type": "code",
   "execution_count": 13,
   "id": "37118e09",
   "metadata": {
    "execution": {
     "iopub.execute_input": "2024-07-04T11:59:24.135911Z",
     "iopub.status.busy": "2024-07-04T11:59:24.135383Z",
     "iopub.status.idle": "2024-07-04T11:59:25.278815Z",
     "shell.execute_reply": "2024-07-04T11:59:25.277538Z"
    },
    "papermill": {
     "duration": 1.186044,
     "end_time": "2024-07-04T11:59:25.281698",
     "exception": false,
     "start_time": "2024-07-04T11:59:24.095654",
     "status": "completed"
    },
    "tags": []
   },
   "outputs": [
    {
     "data": {
      "image/png": "[encoded data removed]",
      "text/plain": [
       "<Figure size 1000x700 with 3 Axes>"
      ]
     },
     "metadata": {},
     "output_type": "display_data"
    }
   ],
   "source": [
    "fig, axes = plt.subplots(nrows = 3, ncols = 1, figsize = (10,7))\n",
    "\n",
    "for _ax, _pos in enumerate(positions_variables):\n",
    "    dataset_str[_pos].hist(ax=axes[_ax], bins=10)\n",
    "    axes[_ax].set_title(_pos)\n",
    "    axes[_ax].grid(False)\n",
    "\n",
    "plt.tight_layout()\n",
    "plt.show()"
   ]
  },
  {
   "cell_type": "markdown",
   "id": "2508d562",
   "metadata": {
    "papermill": {
     "duration": 0.031177,
     "end_time": "2024-07-04T11:59:25.344414",
     "exception": false,
     "start_time": "2024-07-04T11:59:25.313237",
     "status": "completed"
    },
    "tags": []
   },
   "source": [
    "* distribution of club and nation positions are relatively same, but player position is divided more properly, hence I will keep only player position"
   ]
  },
  {
   "cell_type": "code",
   "execution_count": 14,
   "id": "ba216f7b",
   "metadata": {
    "execution": {
     "iopub.execute_input": "2024-07-04T11:59:25.411938Z",
     "iopub.status.busy": "2024-07-04T11:59:25.411526Z",
     "iopub.status.idle": "2024-07-04T11:59:25.417947Z",
     "shell.execute_reply": "2024-07-04T11:59:25.416413Z"
    },
    "papermill": {
     "duration": 0.043297,
     "end_time": "2024-07-04T11:59:25.420810",
     "exception": false,
     "start_time": "2024-07-04T11:59:25.377513",
     "status": "completed"
    },
    "tags": []
   },
   "outputs": [],
   "source": [
    "string_columns_drop.append(\"club_position\")\n",
    "string_columns_drop.append(\"nation_position\")"
   ]
  },
  {
   "cell_type": "markdown",
   "id": "a66ee417",
   "metadata": {
    "papermill": {
     "duration": 0.031179,
     "end_time": "2024-07-04T11:59:25.484964",
     "exception": false,
     "start_time": "2024-07-04T11:59:25.453785",
     "status": "completed"
    },
    "tags": []
   },
   "source": [
    "* variables player_traits and player_tags have too many categories so they are completly useless in further analysis"
   ]
  },
  {
   "cell_type": "code",
   "execution_count": 15,
   "id": "6d3fbf6e",
   "metadata": {
    "execution": {
     "iopub.execute_input": "2024-07-04T11:59:25.549540Z",
     "iopub.status.busy": "2024-07-04T11:59:25.549084Z",
     "iopub.status.idle": "2024-07-04T11:59:25.554615Z",
     "shell.execute_reply": "2024-07-04T11:59:25.553411Z"
    },
    "papermill": {
     "duration": 0.040923,
     "end_time": "2024-07-04T11:59:25.557293",
     "exception": false,
     "start_time": "2024-07-04T11:59:25.516370",
     "status": "completed"
    },
    "tags": []
   },
   "outputs": [],
   "source": [
    "string_columns_drop.append(\"player_tags\")\n",
    "string_columns_drop.append(\"player_traits\")\n",
    "string_columns_drop.append(\"real_face\")"
   ]
  },
  {
   "cell_type": "markdown",
   "id": "10d0f7ed",
   "metadata": {
    "papermill": {
     "duration": 0.032228,
     "end_time": "2024-07-04T11:59:25.621062",
     "exception": false,
     "start_time": "2024-07-04T11:59:25.588834",
     "status": "completed"
    },
    "tags": []
   },
   "source": [
    "* dob and age corresponds to each other so dob will be removed"
   ]
  },
  {
   "cell_type": "code",
   "execution_count": 16,
   "id": "8cbb711e",
   "metadata": {
    "execution": {
     "iopub.execute_input": "2024-07-04T11:59:25.687545Z",
     "iopub.status.busy": "2024-07-04T11:59:25.687093Z",
     "iopub.status.idle": "2024-07-04T11:59:25.692435Z",
     "shell.execute_reply": "2024-07-04T11:59:25.691291Z"
    },
    "papermill": {
     "duration": 0.042541,
     "end_time": "2024-07-04T11:59:25.695506",
     "exception": false,
     "start_time": "2024-07-04T11:59:25.652965",
     "status": "completed"
    },
    "tags": []
   },
   "outputs": [],
   "source": [
    "string_columns_drop.append(\"dob\")"
   ]
  },
  {
   "cell_type": "code",
   "execution_count": 17,
   "id": "731f06fa",
   "metadata": {
    "execution": {
     "iopub.execute_input": "2024-07-04T11:59:25.760764Z",
     "iopub.status.busy": "2024-07-04T11:59:25.760377Z",
     "iopub.status.idle": "2024-07-04T11:59:25.773409Z",
     "shell.execute_reply": "2024-07-04T11:59:25.772026Z"
    },
    "papermill": {
     "duration": 0.048534,
     "end_time": "2024-07-04T11:59:25.776049",
     "exception": false,
     "start_time": "2024-07-04T11:59:25.727515",
     "status": "completed"
    },
    "tags": []
   },
   "outputs": [
    {
     "data": {
      "text/plain": [
       "body_type\n",
       "Normal (170-185)    6685\n",
       "Normal (185+)       4236\n",
       "Lean (170-185)      4086\n",
       "Lean (185+)         1938\n",
       "Normal (170-)        669\n",
       "Stocky (170-185)     560\n",
       "Lean (170-)          477\n",
       "Stocky (185+)        355\n",
       "Unique               136\n",
       "Stocky (170-)         97\n",
       "Name: count, dtype: int64"
      ]
     },
     "execution_count": 17,
     "metadata": {},
     "output_type": "execute_result"
    }
   ],
   "source": [
    "dataset_str[\"body_type\"].value_counts()"
   ]
  },
  {
   "cell_type": "markdown",
   "id": "c4f217d9",
   "metadata": {
    "papermill": {
     "duration": 0.031468,
     "end_time": "2024-07-04T11:59:25.842181",
     "exception": false,
     "start_time": "2024-07-04T11:59:25.810713",
     "status": "completed"
    },
    "tags": []
   },
   "source": [
    "* since body type should indicates player position we will keep this variable"
   ]
  },
  {
   "cell_type": "code",
   "execution_count": 18,
   "id": "62772ede",
   "metadata": {
    "execution": {
     "iopub.execute_input": "2024-07-04T11:59:25.907408Z",
     "iopub.status.busy": "2024-07-04T11:59:25.906950Z",
     "iopub.status.idle": "2024-07-04T11:59:25.947440Z",
     "shell.execute_reply": "2024-07-04T11:59:25.946277Z"
    },
    "papermill": {
     "duration": 0.076325,
     "end_time": "2024-07-04T11:59:25.950147",
     "exception": false,
     "start_time": "2024-07-04T11:59:25.873822",
     "status": "completed"
    },
    "tags": []
   },
   "outputs": [
    {
     "data": {
      "text/html": [
       "<div>\n",
       "<style scoped>\n",
       "    .dataframe tbody tr th:only-of-type {\n",
       "        vertical-align: middle;\n",
       "    }\n",
       "\n",
       "    .dataframe tbody tr th {\n",
       "        vertical-align: top;\n",
       "    }\n",
       "\n",
       "    .dataframe thead th {\n",
       "        text-align: right;\n",
       "    }\n",
       "</style>\n",
       "<table border=\"1\" class=\"dataframe\">\n",
       "  <thead>\n",
       "    <tr style=\"text-align: right;\">\n",
       "      <th></th>\n",
       "      <th>ls</th>\n",
       "      <th>st</th>\n",
       "      <th>rs</th>\n",
       "      <th>lw</th>\n",
       "      <th>lf</th>\n",
       "      <th>cf</th>\n",
       "      <th>rf</th>\n",
       "      <th>rw</th>\n",
       "      <th>lam</th>\n",
       "      <th>cam</th>\n",
       "      <th>ram</th>\n",
       "      <th>lm</th>\n",
       "      <th>lcm</th>\n",
       "      <th>cm</th>\n",
       "      <th>rcm</th>\n",
       "      <th>rm</th>\n",
       "      <th>lwb</th>\n",
       "      <th>ldm</th>\n",
       "      <th>cdm</th>\n",
       "      <th>rdm</th>\n",
       "      <th>rwb</th>\n",
       "      <th>lb</th>\n",
       "      <th>lcb</th>\n",
       "      <th>cb</th>\n",
       "      <th>rcb</th>\n",
       "      <th>rb</th>\n",
       "      <th>gk</th>\n",
       "    </tr>\n",
       "  </thead>\n",
       "  <tbody>\n",
       "    <tr>\n",
       "      <th>0</th>\n",
       "      <td>89+3</td>\n",
       "      <td>89+3</td>\n",
       "      <td>89+3</td>\n",
       "      <td>92</td>\n",
       "      <td>93</td>\n",
       "      <td>93</td>\n",
       "      <td>93</td>\n",
       "      <td>92</td>\n",
       "      <td>93</td>\n",
       "      <td>93</td>\n",
       "      <td>93</td>\n",
       "      <td>91+2</td>\n",
       "      <td>87+3</td>\n",
       "      <td>87+3</td>\n",
       "      <td>87+3</td>\n",
       "      <td>91+2</td>\n",
       "      <td>66+3</td>\n",
       "      <td>64+3</td>\n",
       "      <td>64+3</td>\n",
       "      <td>64+3</td>\n",
       "      <td>66+3</td>\n",
       "      <td>61+3</td>\n",
       "      <td>50+3</td>\n",
       "      <td>50+3</td>\n",
       "      <td>50+3</td>\n",
       "      <td>61+3</td>\n",
       "      <td>19+3</td>\n",
       "    </tr>\n",
       "    <tr>\n",
       "      <th>1</th>\n",
       "      <td>90+2</td>\n",
       "      <td>90+2</td>\n",
       "      <td>90+2</td>\n",
       "      <td>85</td>\n",
       "      <td>88</td>\n",
       "      <td>88</td>\n",
       "      <td>88</td>\n",
       "      <td>85</td>\n",
       "      <td>86+3</td>\n",
       "      <td>86+3</td>\n",
       "      <td>86+3</td>\n",
       "      <td>84+3</td>\n",
       "      <td>80+3</td>\n",
       "      <td>80+3</td>\n",
       "      <td>80+3</td>\n",
       "      <td>84+3</td>\n",
       "      <td>64+3</td>\n",
       "      <td>66+3</td>\n",
       "      <td>66+3</td>\n",
       "      <td>66+3</td>\n",
       "      <td>64+3</td>\n",
       "      <td>61+3</td>\n",
       "      <td>60+3</td>\n",
       "      <td>60+3</td>\n",
       "      <td>60+3</td>\n",
       "      <td>61+3</td>\n",
       "      <td>19+3</td>\n",
       "    </tr>\n",
       "    <tr>\n",
       "      <th>2</th>\n",
       "      <td>90+1</td>\n",
       "      <td>90+1</td>\n",
       "      <td>90+1</td>\n",
       "      <td>88</td>\n",
       "      <td>89</td>\n",
       "      <td>89</td>\n",
       "      <td>89</td>\n",
       "      <td>88</td>\n",
       "      <td>86+3</td>\n",
       "      <td>86+3</td>\n",
       "      <td>86+3</td>\n",
       "      <td>86+3</td>\n",
       "      <td>78+3</td>\n",
       "      <td>78+3</td>\n",
       "      <td>78+3</td>\n",
       "      <td>86+3</td>\n",
       "      <td>63+3</td>\n",
       "      <td>59+3</td>\n",
       "      <td>59+3</td>\n",
       "      <td>59+3</td>\n",
       "      <td>63+3</td>\n",
       "      <td>60+3</td>\n",
       "      <td>53+3</td>\n",
       "      <td>53+3</td>\n",
       "      <td>53+3</td>\n",
       "      <td>60+3</td>\n",
       "      <td>20+3</td>\n",
       "    </tr>\n",
       "    <tr>\n",
       "      <th>3</th>\n",
       "      <td>83+3</td>\n",
       "      <td>83+3</td>\n",
       "      <td>83+3</td>\n",
       "      <td>90</td>\n",
       "      <td>88</td>\n",
       "      <td>88</td>\n",
       "      <td>88</td>\n",
       "      <td>90</td>\n",
       "      <td>89+2</td>\n",
       "      <td>89+2</td>\n",
       "      <td>89+2</td>\n",
       "      <td>89+2</td>\n",
       "      <td>82+3</td>\n",
       "      <td>82+3</td>\n",
       "      <td>82+3</td>\n",
       "      <td>89+2</td>\n",
       "      <td>67+3</td>\n",
       "      <td>63+3</td>\n",
       "      <td>63+3</td>\n",
       "      <td>63+3</td>\n",
       "      <td>67+3</td>\n",
       "      <td>62+3</td>\n",
       "      <td>50+3</td>\n",
       "      <td>50+3</td>\n",
       "      <td>50+3</td>\n",
       "      <td>62+3</td>\n",
       "      <td>20+3</td>\n",
       "    </tr>\n",
       "    <tr>\n",
       "      <th>4</th>\n",
       "      <td>83+3</td>\n",
       "      <td>83+3</td>\n",
       "      <td>83+3</td>\n",
       "      <td>88</td>\n",
       "      <td>87</td>\n",
       "      <td>87</td>\n",
       "      <td>87</td>\n",
       "      <td>88</td>\n",
       "      <td>89+2</td>\n",
       "      <td>89+2</td>\n",
       "      <td>89+2</td>\n",
       "      <td>89+2</td>\n",
       "      <td>89+2</td>\n",
       "      <td>89+2</td>\n",
       "      <td>89+2</td>\n",
       "      <td>89+2</td>\n",
       "      <td>79+3</td>\n",
       "      <td>80+3</td>\n",
       "      <td>80+3</td>\n",
       "      <td>80+3</td>\n",
       "      <td>79+3</td>\n",
       "      <td>75+3</td>\n",
       "      <td>69+3</td>\n",
       "      <td>69+3</td>\n",
       "      <td>69+3</td>\n",
       "      <td>75+3</td>\n",
       "      <td>21+3</td>\n",
       "    </tr>\n",
       "  </tbody>\n",
       "</table>\n",
       "</div>"
      ],
      "text/plain": [
       "     ls    st    rs  lw  lf  cf  rf  rw   lam   cam   ram    lm   lcm    cm  \\\n",
       "0  89+3  89+3  89+3  92  93  93  93  92    93    93    93  91+2  87+3  87+3   \n",
       "1  90+2  90+2  90+2  85  88  88  88  85  86+3  86+3  86+3  84+3  80+3  80+3   \n",
       "2  90+1  90+1  90+1  88  89  89  89  88  86+3  86+3  86+3  86+3  78+3  78+3   \n",
       "3  83+3  83+3  83+3  90  88  88  88  90  89+2  89+2  89+2  89+2  82+3  82+3   \n",
       "4  83+3  83+3  83+3  88  87  87  87  88  89+2  89+2  89+2  89+2  89+2  89+2   \n",
       "\n",
       "    rcm    rm   lwb   ldm   cdm   rdm   rwb    lb   lcb    cb   rcb    rb  \\\n",
       "0  87+3  91+2  66+3  64+3  64+3  64+3  66+3  61+3  50+3  50+3  50+3  61+3   \n",
       "1  80+3  84+3  64+3  66+3  66+3  66+3  64+3  61+3  60+3  60+3  60+3  61+3   \n",
       "2  78+3  86+3  63+3  59+3  59+3  59+3  63+3  60+3  53+3  53+3  53+3  60+3   \n",
       "3  82+3  89+2  67+3  63+3  63+3  63+3  67+3  62+3  50+3  50+3  50+3  62+3   \n",
       "4  89+2  89+2  79+3  80+3  80+3  80+3  79+3  75+3  69+3  69+3  69+3  75+3   \n",
       "\n",
       "     gk  \n",
       "0  19+3  \n",
       "1  19+3  \n",
       "2  20+3  \n",
       "3  20+3  \n",
       "4  21+3  "
      ]
     },
     "execution_count": 18,
     "metadata": {},
     "output_type": "execute_result"
    }
   ],
   "source": [
    "pd.set_option('display.max_columns', 100)\n",
    "start_index = dataset_str.columns.get_loc(\"ls\")\n",
    "end_index = dataset_str.columns.get_loc(\"gk\") + 1\n",
    "dataset_str.iloc[:, start_index : end_index ].head()"
   ]
  },
  {
   "cell_type": "markdown",
   "id": "0edc5e04",
   "metadata": {
    "papermill": {
     "duration": 0.031846,
     "end_time": "2024-07-04T11:59:26.014745",
     "exception": false,
     "start_time": "2024-07-04T11:59:25.982899",
     "status": "completed"
    },
    "tags": []
   },
   "source": [
    "* this analysis includes only basic stats of player, therefore all advanced statistcs will be droped"
   ]
  },
  {
   "cell_type": "code",
   "execution_count": 19,
   "id": "156ff0cd",
   "metadata": {
    "execution": {
     "iopub.execute_input": "2024-07-04T11:59:26.081096Z",
     "iopub.status.busy": "2024-07-04T11:59:26.080707Z",
     "iopub.status.idle": "2024-07-04T11:59:26.107883Z",
     "shell.execute_reply": "2024-07-04T11:59:26.106663Z"
    },
    "papermill": {
     "duration": 0.063549,
     "end_time": "2024-07-04T11:59:26.110739",
     "exception": false,
     "start_time": "2024-07-04T11:59:26.047190",
     "status": "completed"
    },
    "tags": []
   },
   "outputs": [],
   "source": [
    "dataset_str.drop(dataset_str.iloc[ : , start_index : end_index], axis = \"columns\", inplace = True)"
   ]
  },
  {
   "cell_type": "markdown",
   "id": "dae61ccf",
   "metadata": {
    "papermill": {
     "duration": 0.032767,
     "end_time": "2024-07-04T11:59:26.175574",
     "exception": false,
     "start_time": "2024-07-04T11:59:26.142807",
     "status": "completed"
    },
    "tags": []
   },
   "source": [
    "# Drop useless string attributes"
   ]
  },
  {
   "cell_type": "code",
   "execution_count": 20,
   "id": "19a072b4",
   "metadata": {
    "execution": {
     "iopub.execute_input": "2024-07-04T11:59:26.242416Z",
     "iopub.status.busy": "2024-07-04T11:59:26.241921Z",
     "iopub.status.idle": "2024-07-04T11:59:26.254472Z",
     "shell.execute_reply": "2024-07-04T11:59:26.253170Z"
    },
    "papermill": {
     "duration": 0.049074,
     "end_time": "2024-07-04T11:59:26.257178",
     "exception": false,
     "start_time": "2024-07-04T11:59:26.208104",
     "status": "completed"
    },
    "tags": []
   },
   "outputs": [],
   "source": [
    "dataset_str.drop(columns=string_columns_drop, inplace = True)"
   ]
  },
  {
   "cell_type": "markdown",
   "id": "428e1f7e",
   "metadata": {
    "papermill": {
     "duration": 0.032652,
     "end_time": "2024-07-04T11:59:26.322040",
     "exception": false,
     "start_time": "2024-07-04T11:59:26.289388",
     "status": "completed"
    },
    "tags": []
   },
   "source": [
    "# Locate columns to be dropped within numerical columns"
   ]
  },
  {
   "cell_type": "code",
   "execution_count": 21,
   "id": "47805ada",
   "metadata": {
    "execution": {
     "iopub.execute_input": "2024-07-04T11:59:26.390715Z",
     "iopub.status.busy": "2024-07-04T11:59:26.390312Z",
     "iopub.status.idle": "2024-07-04T11:59:26.395655Z",
     "shell.execute_reply": "2024-07-04T11:59:26.394293Z"
    },
    "papermill": {
     "duration": 0.04259,
     "end_time": "2024-07-04T11:59:26.398371",
     "exception": false,
     "start_time": "2024-07-04T11:59:26.355781",
     "status": "completed"
    },
    "tags": []
   },
   "outputs": [],
   "source": [
    "number_columns_drop = []"
   ]
  },
  {
   "cell_type": "markdown",
   "id": "6988e531",
   "metadata": {
    "papermill": {
     "duration": 0.032035,
     "end_time": "2024-07-04T11:59:26.463093",
     "exception": false,
     "start_time": "2024-07-04T11:59:26.431058",
     "status": "completed"
    },
    "tags": []
   },
   "source": [
    "* nation team id / nationality name and nationality id are corresponding so keep nationality name"
   ]
  },
  {
   "cell_type": "code",
   "execution_count": 22,
   "id": "472e3e36",
   "metadata": {
    "execution": {
     "iopub.execute_input": "2024-07-04T11:59:26.529190Z",
     "iopub.status.busy": "2024-07-04T11:59:26.528707Z",
     "iopub.status.idle": "2024-07-04T11:59:26.534561Z",
     "shell.execute_reply": "2024-07-04T11:59:26.533334Z"
    },
    "papermill": {
     "duration": 0.041988,
     "end_time": "2024-07-04T11:59:26.537074",
     "exception": false,
     "start_time": "2024-07-04T11:59:26.495086",
     "status": "completed"
    },
    "tags": []
   },
   "outputs": [],
   "source": [
    "number_columns_drop.extend([\"nationality_id\", \"nation_team_id\"])"
   ]
  },
  {
   "cell_type": "markdown",
   "id": "9394da75",
   "metadata": {
    "papermill": {
     "duration": 0.031902,
     "end_time": "2024-07-04T11:59:26.601661",
     "exception": false,
     "start_time": "2024-07-04T11:59:26.569759",
     "status": "completed"
    },
    "tags": []
   },
   "source": [
    "* dataset_num[\"club_team_id\"] and dataset_str[\"club_name\"] corresponds to each other so I will remove club team id"
   ]
  },
  {
   "cell_type": "code",
   "execution_count": 23,
   "id": "908ce3d6",
   "metadata": {
    "execution": {
     "iopub.execute_input": "2024-07-04T11:59:26.668256Z",
     "iopub.status.busy": "2024-07-04T11:59:26.667836Z",
     "iopub.status.idle": "2024-07-04T11:59:26.673183Z",
     "shell.execute_reply": "2024-07-04T11:59:26.672008Z"
    },
    "papermill": {
     "duration": 0.041384,
     "end_time": "2024-07-04T11:59:26.675759",
     "exception": false,
     "start_time": "2024-07-04T11:59:26.634375",
     "status": "completed"
    },
    "tags": []
   },
   "outputs": [],
   "source": [
    "number_columns_drop.append(\"club_team_id\")"
   ]
  },
  {
   "cell_type": "markdown",
   "id": "d72e9c41",
   "metadata": {
    "papermill": {
     "duration": 0.032295,
     "end_time": "2024-07-04T11:59:26.740073",
     "exception": false,
     "start_time": "2024-07-04T11:59:26.707778",
     "status": "completed"
    },
    "tags": []
   },
   "source": [
    "* lets find out which advances statistcs have interesting distributions"
   ]
  },
  {
   "cell_type": "code",
   "execution_count": 24,
   "id": "85cf86e8",
   "metadata": {
    "execution": {
     "iopub.execute_input": "2024-07-04T11:59:26.808439Z",
     "iopub.status.busy": "2024-07-04T11:59:26.807116Z",
     "iopub.status.idle": "2024-07-04T11:59:32.998681Z",
     "shell.execute_reply": "2024-07-04T11:59:32.997284Z"
    },
    "papermill": {
     "duration": 6.230891,
     "end_time": "2024-07-04T11:59:33.003016",
     "exception": false,
     "start_time": "2024-07-04T11:59:26.772125",
     "status": "completed"
    },
    "tags": []
   },
   "outputs": [
    {
     "data": {
      "image/png": "[encoded data removed]",
      "text/plain": [
       "<Figure size 1200x1200 with 35 Axes>"
      ]
     },
     "metadata": {},
     "output_type": "display_data"
    }
   ],
   "source": [
    "start_index = dataset_num.columns.get_loc(\"attacking_crossing\")\n",
    "end_index = dataset_num.columns.get_loc(\"goalkeeping_speed\") + 1\n",
    "\n",
    "advanced_num_data = dataset_num.iloc[:, start_index : end_index]\n",
    "\n",
    "rows = advanced_num_data.shape[1] // 5\n",
    "cols = advanced_num_data.shape[1] // 7\n",
    "fig, axes = plt.subplots(rows, cols, figsize=(12, 12))\n",
    "\n",
    "for i, _col in enumerate(advanced_num_data.columns):\n",
    "    row = i // cols\n",
    "    col = i % cols\n",
    "    ax = axes[row, col]\n",
    "    ax.hist(advanced_num_data[_col], bins=10, alpha=0.7, color='blue')\n",
    "    ax.set_title(f'{_col}')\n",
    "\n",
    "\n",
    "plt.tight_layout()\n",
    "plt.show()\n"
   ]
  },
  {
   "cell_type": "markdown",
   "id": "cf2b9a5f",
   "metadata": {
    "papermill": {
     "duration": 0.034103,
     "end_time": "2024-07-04T11:59:33.072334",
     "exception": false,
     "start_time": "2024-07-04T11:59:33.038231",
     "status": "completed"
    },
    "tags": []
   },
   "source": [
    "* defending standing/sliding tackle have bimodal distribution which means we observe 2 typical values, I will keep one of thease variable "
   ]
  },
  {
   "cell_type": "code",
   "execution_count": 25,
   "id": "728ba02d",
   "metadata": {
    "execution": {
     "iopub.execute_input": "2024-07-04T11:59:33.142713Z",
     "iopub.status.busy": "2024-07-04T11:59:33.142304Z",
     "iopub.status.idle": "2024-07-04T11:59:33.147621Z",
     "shell.execute_reply": "2024-07-04T11:59:33.146377Z"
    },
    "papermill": {
     "duration": 0.043909,
     "end_time": "2024-07-04T11:59:33.150325",
     "exception": false,
     "start_time": "2024-07-04T11:59:33.106416",
     "status": "completed"
    },
    "tags": []
   },
   "outputs": [],
   "source": [
    "defending_sliding_tackle = dataset_num[\"defending_sliding_tackle\"]"
   ]
  },
  {
   "cell_type": "markdown",
   "id": "d6397f36",
   "metadata": {
    "papermill": {
     "duration": 0.03419,
     "end_time": "2024-07-04T11:59:33.218822",
     "exception": false,
     "start_time": "2024-07-04T11:59:33.184632",
     "status": "completed"
    },
    "tags": []
   },
   "source": [
    "# Dropping useless numerical variables"
   ]
  },
  {
   "cell_type": "code",
   "execution_count": 26,
   "id": "0cd5f986",
   "metadata": {
    "execution": {
     "iopub.execute_input": "2024-07-04T11:59:33.290613Z",
     "iopub.status.busy": "2024-07-04T11:59:33.289554Z",
     "iopub.status.idle": "2024-07-04T11:59:33.301335Z",
     "shell.execute_reply": "2024-07-04T11:59:33.300027Z"
    },
    "papermill": {
     "duration": 0.051186,
     "end_time": "2024-07-04T11:59:33.304091",
     "exception": false,
     "start_time": "2024-07-04T11:59:33.252905",
     "status": "completed"
    },
    "tags": []
   },
   "outputs": [],
   "source": [
    "dataset_num.drop(dataset_num.iloc[:, start_index : end_index], axis=\"columns\", inplace = True)"
   ]
  },
  {
   "cell_type": "code",
   "execution_count": 27,
   "id": "646f0622",
   "metadata": {
    "execution": {
     "iopub.execute_input": "2024-07-04T11:59:33.375438Z",
     "iopub.status.busy": "2024-07-04T11:59:33.375006Z",
     "iopub.status.idle": "2024-07-04T11:59:33.382818Z",
     "shell.execute_reply": "2024-07-04T11:59:33.381672Z"
    },
    "papermill": {
     "duration": 0.046417,
     "end_time": "2024-07-04T11:59:33.385471",
     "exception": false,
     "start_time": "2024-07-04T11:59:33.339054",
     "status": "completed"
    },
    "tags": []
   },
   "outputs": [],
   "source": [
    "dataset_num.drop(columns=number_columns_drop, inplace = True)"
   ]
  },
  {
   "cell_type": "markdown",
   "id": "541874b8",
   "metadata": {
    "papermill": {
     "duration": 0.034015,
     "end_time": "2024-07-04T11:59:33.453790",
     "exception": false,
     "start_time": "2024-07-04T11:59:33.419775",
     "status": "completed"
    },
    "tags": []
   },
   "source": [
    "* concatenate numerical_dataset with series defending_sliding_tackle"
   ]
  },
  {
   "cell_type": "code",
   "execution_count": 28,
   "id": "4ef6dd6d",
   "metadata": {
    "execution": {
     "iopub.execute_input": "2024-07-04T11:59:33.524177Z",
     "iopub.status.busy": "2024-07-04T11:59:33.523764Z",
     "iopub.status.idle": "2024-07-04T11:59:33.531464Z",
     "shell.execute_reply": "2024-07-04T11:59:33.530049Z"
    },
    "papermill": {
     "duration": 0.046348,
     "end_time": "2024-07-04T11:59:33.534305",
     "exception": false,
     "start_time": "2024-07-04T11:59:33.487957",
     "status": "completed"
    },
    "tags": []
   },
   "outputs": [],
   "source": [
    "dataset_num = pd.concat([dataset_num, defending_sliding_tackle], axis=1)"
   ]
  },
  {
   "cell_type": "markdown",
   "id": "3e640aac",
   "metadata": {
    "papermill": {
     "duration": 0.034545,
     "end_time": "2024-07-04T11:59:33.604503",
     "exception": false,
     "start_time": "2024-07-04T11:59:33.569958",
     "status": "completed"
    },
    "tags": []
   },
   "source": [
    "* Euro salary, release clause, value converted int milions and thousands and rename"
   ]
  },
  {
   "cell_type": "code",
   "execution_count": 29,
   "id": "3cb2d47d",
   "metadata": {
    "execution": {
     "iopub.execute_input": "2024-07-04T11:59:33.676424Z",
     "iopub.status.busy": "2024-07-04T11:59:33.676003Z",
     "iopub.status.idle": "2024-07-04T11:59:33.686419Z",
     "shell.execute_reply": "2024-07-04T11:59:33.685073Z"
    },
    "papermill": {
     "duration": 0.049745,
     "end_time": "2024-07-04T11:59:33.689015",
     "exception": false,
     "start_time": "2024-07-04T11:59:33.639270",
     "status": "completed"
    },
    "tags": []
   },
   "outputs": [],
   "source": [
    "dataset_num.rename(inplace=True, columns={\"value_eur\" : \"value_mln_eur\", \"wage_eur\" : \"wage_k_eur\", \n",
    "                                          \"release_clause_eur\" : \"release_clause_mln_eur\"})\n",
    "\n",
    "dataset_num[\"release_clause_mln_eur\"] = dataset_num[\"release_clause_mln_eur\"] / 1000000\n",
    "dataset_num[\"value_mln_eur\"] = dataset_num[\"value_mln_eur\"] / 1000000\n",
    "dataset_num[\"wage_k_eur\"] = dataset_num[\"wage_k_eur\"] / 1000"
   ]
  },
  {
   "cell_type": "markdown",
   "id": "27f87bb2",
   "metadata": {
    "papermill": {
     "duration": 0.038571,
     "end_time": "2024-07-04T11:59:33.763085",
     "exception": false,
     "start_time": "2024-07-04T11:59:33.724514",
     "status": "completed"
    },
    "tags": []
   },
   "source": [
    "* rename weak_foot because we have preferred foot which indicates body statistics and weak_foot which belongs to skills table"
   ]
  },
  {
   "cell_type": "code",
   "execution_count": 30,
   "id": "814d91da",
   "metadata": {
    "execution": {
     "iopub.execute_input": "2024-07-04T11:59:33.835329Z",
     "iopub.status.busy": "2024-07-04T11:59:33.834125Z",
     "iopub.status.idle": "2024-07-04T11:59:33.841416Z",
     "shell.execute_reply": "2024-07-04T11:59:33.840312Z"
    },
    "papermill": {
     "duration": 0.046707,
     "end_time": "2024-07-04T11:59:33.843886",
     "exception": false,
     "start_time": "2024-07-04T11:59:33.797179",
     "status": "completed"
    },
    "tags": []
   },
   "outputs": [],
   "source": [
    "dataset_num.rename(columns={\"weak_foot\" : \"weak_foot_points\"}, inplace = True)"
   ]
  },
  {
   "cell_type": "markdown",
   "id": "c67778ec",
   "metadata": {
    "papermill": {
     "duration": 0.034323,
     "end_time": "2024-07-04T11:59:33.912863",
     "exception": false,
     "start_time": "2024-07-04T11:59:33.878540",
     "status": "completed"
    },
    "tags": []
   },
   "source": [
    "# Final concatenate of numerical and text datasets"
   ]
  },
  {
   "cell_type": "code",
   "execution_count": 31,
   "id": "7f88c5e5",
   "metadata": {
    "execution": {
     "iopub.execute_input": "2024-07-04T11:59:34.001869Z",
     "iopub.status.busy": "2024-07-04T11:59:34.001355Z",
     "iopub.status.idle": "2024-07-04T11:59:34.036925Z",
     "shell.execute_reply": "2024-07-04T11:59:34.035545Z"
    },
    "papermill": {
     "duration": 0.083811,
     "end_time": "2024-07-04T11:59:34.039779",
     "exception": false,
     "start_time": "2024-07-04T11:59:33.955968",
     "status": "completed"
    },
    "tags": []
   },
   "outputs": [
    {
     "data": {
      "text/html": [
       "<div>\n",
       "<style scoped>\n",
       "    .dataframe tbody tr th:only-of-type {\n",
       "        vertical-align: middle;\n",
       "    }\n",
       "\n",
       "    .dataframe tbody tr th {\n",
       "        vertical-align: top;\n",
       "    }\n",
       "\n",
       "    .dataframe thead th {\n",
       "        text-align: right;\n",
       "    }\n",
       "</style>\n",
       "<table border=\"1\" class=\"dataframe\">\n",
       "  <thead>\n",
       "    <tr style=\"text-align: right;\">\n",
       "      <th></th>\n",
       "      <th>sofifa_id</th>\n",
       "      <th>overall</th>\n",
       "      <th>potential</th>\n",
       "      <th>value_mln_eur</th>\n",
       "      <th>wage_k_eur</th>\n",
       "      <th>age</th>\n",
       "      <th>height_cm</th>\n",
       "      <th>weight_kg</th>\n",
       "      <th>league_level</th>\n",
       "      <th>club_jersey_number</th>\n",
       "      <th>club_contract_valid_until</th>\n",
       "      <th>nation_jersey_number</th>\n",
       "      <th>weak_foot_points</th>\n",
       "      <th>skill_moves</th>\n",
       "      <th>international_reputation</th>\n",
       "      <th>release_clause_mln_eur</th>\n",
       "      <th>pace</th>\n",
       "      <th>shooting</th>\n",
       "      <th>passing</th>\n",
       "      <th>dribbling</th>\n",
       "      <th>defending</th>\n",
       "      <th>physic</th>\n",
       "      <th>defending_sliding_tackle</th>\n",
       "    </tr>\n",
       "  </thead>\n",
       "  <tbody>\n",
       "    <tr>\n",
       "      <th>0</th>\n",
       "      <td>158023</td>\n",
       "      <td>93</td>\n",
       "      <td>93</td>\n",
       "      <td>78.0</td>\n",
       "      <td>320.0</td>\n",
       "      <td>34</td>\n",
       "      <td>170</td>\n",
       "      <td>72</td>\n",
       "      <td>1.0</td>\n",
       "      <td>30.0</td>\n",
       "      <td>2023.0</td>\n",
       "      <td>10.0</td>\n",
       "      <td>4</td>\n",
       "      <td>4</td>\n",
       "      <td>5</td>\n",
       "      <td>144.3</td>\n",
       "      <td>85.0</td>\n",
       "      <td>92.0</td>\n",
       "      <td>91.0</td>\n",
       "      <td>95.0</td>\n",
       "      <td>34.0</td>\n",
       "      <td>65.0</td>\n",
       "      <td>24</td>\n",
       "    </tr>\n",
       "    <tr>\n",
       "      <th>1</th>\n",
       "      <td>188545</td>\n",
       "      <td>92</td>\n",
       "      <td>92</td>\n",
       "      <td>119.5</td>\n",
       "      <td>270.0</td>\n",
       "      <td>32</td>\n",
       "      <td>185</td>\n",
       "      <td>81</td>\n",
       "      <td>1.0</td>\n",
       "      <td>9.0</td>\n",
       "      <td>2023.0</td>\n",
       "      <td>9.0</td>\n",
       "      <td>4</td>\n",
       "      <td>4</td>\n",
       "      <td>5</td>\n",
       "      <td>197.2</td>\n",
       "      <td>78.0</td>\n",
       "      <td>92.0</td>\n",
       "      <td>79.0</td>\n",
       "      <td>86.0</td>\n",
       "      <td>44.0</td>\n",
       "      <td>82.0</td>\n",
       "      <td>19</td>\n",
       "    </tr>\n",
       "    <tr>\n",
       "      <th>2</th>\n",
       "      <td>20801</td>\n",
       "      <td>91</td>\n",
       "      <td>91</td>\n",
       "      <td>45.0</td>\n",
       "      <td>270.0</td>\n",
       "      <td>36</td>\n",
       "      <td>187</td>\n",
       "      <td>83</td>\n",
       "      <td>1.0</td>\n",
       "      <td>7.0</td>\n",
       "      <td>2023.0</td>\n",
       "      <td>7.0</td>\n",
       "      <td>4</td>\n",
       "      <td>5</td>\n",
       "      <td>5</td>\n",
       "      <td>83.3</td>\n",
       "      <td>87.0</td>\n",
       "      <td>94.0</td>\n",
       "      <td>80.0</td>\n",
       "      <td>88.0</td>\n",
       "      <td>34.0</td>\n",
       "      <td>75.0</td>\n",
       "      <td>24</td>\n",
       "    </tr>\n",
       "    <tr>\n",
       "      <th>3</th>\n",
       "      <td>190871</td>\n",
       "      <td>91</td>\n",
       "      <td>91</td>\n",
       "      <td>129.0</td>\n",
       "      <td>270.0</td>\n",
       "      <td>29</td>\n",
       "      <td>175</td>\n",
       "      <td>68</td>\n",
       "      <td>1.0</td>\n",
       "      <td>10.0</td>\n",
       "      <td>2025.0</td>\n",
       "      <td>NaN</td>\n",
       "      <td>5</td>\n",
       "      <td>5</td>\n",
       "      <td>5</td>\n",
       "      <td>238.7</td>\n",
       "      <td>91.0</td>\n",
       "      <td>83.0</td>\n",
       "      <td>86.0</td>\n",
       "      <td>94.0</td>\n",
       "      <td>37.0</td>\n",
       "      <td>63.0</td>\n",
       "      <td>29</td>\n",
       "    </tr>\n",
       "    <tr>\n",
       "      <th>4</th>\n",
       "      <td>192985</td>\n",
       "      <td>91</td>\n",
       "      <td>91</td>\n",
       "      <td>125.5</td>\n",
       "      <td>350.0</td>\n",
       "      <td>30</td>\n",
       "      <td>181</td>\n",
       "      <td>70</td>\n",
       "      <td>1.0</td>\n",
       "      <td>17.0</td>\n",
       "      <td>2025.0</td>\n",
       "      <td>7.0</td>\n",
       "      <td>5</td>\n",
       "      <td>4</td>\n",
       "      <td>4</td>\n",
       "      <td>232.2</td>\n",
       "      <td>76.0</td>\n",
       "      <td>86.0</td>\n",
       "      <td>93.0</td>\n",
       "      <td>88.0</td>\n",
       "      <td>64.0</td>\n",
       "      <td>78.0</td>\n",
       "      <td>53</td>\n",
       "    </tr>\n",
       "  </tbody>\n",
       "</table>\n",
       "</div>"
      ],
      "text/plain": [
       "   sofifa_id  overall  potential  value_mln_eur  wage_k_eur  age  height_cm  \\\n",
       "0     158023       93         93           78.0       320.0   34        170   \n",
       "1     188545       92         92          119.5       270.0   32        185   \n",
       "2      20801       91         91           45.0       270.0   36        187   \n",
       "3     190871       91         91          129.0       270.0   29        175   \n",
       "4     192985       91         91          125.5       350.0   30        181   \n",
       "\n",
       "   weight_kg  league_level  club_jersey_number  club_contract_valid_until  \\\n",
       "0         72           1.0                30.0                     2023.0   \n",
       "1         81           1.0                 9.0                     2023.0   \n",
       "2         83           1.0                 7.0                     2023.0   \n",
       "3         68           1.0                10.0                     2025.0   \n",
       "4         70           1.0                17.0                     2025.0   \n",
       "\n",
       "   nation_jersey_number  weak_foot_points  skill_moves  \\\n",
       "0                  10.0                 4            4   \n",
       "1                   9.0                 4            4   \n",
       "2                   7.0                 4            5   \n",
       "3                   NaN                 5            5   \n",
       "4                   7.0                 5            4   \n",
       "\n",
       "   international_reputation  release_clause_mln_eur  pace  shooting  passing  \\\n",
       "0                         5                   144.3  85.0      92.0     91.0   \n",
       "1                         5                   197.2  78.0      92.0     79.0   \n",
       "2                         5                    83.3  87.0      94.0     80.0   \n",
       "3                         5                   238.7  91.0      83.0     86.0   \n",
       "4                         4                   232.2  76.0      86.0     93.0   \n",
       "\n",
       "   dribbling  defending  physic  defending_sliding_tackle  \n",
       "0       95.0       34.0    65.0                        24  \n",
       "1       86.0       44.0    82.0                        19  \n",
       "2       88.0       34.0    75.0                        24  \n",
       "3       94.0       37.0    63.0                        29  \n",
       "4       88.0       64.0    78.0                        53  "
      ]
     },
     "execution_count": 31,
     "metadata": {},
     "output_type": "execute_result"
    }
   ],
   "source": [
    "dataset_num.head()"
   ]
  },
  {
   "cell_type": "code",
   "execution_count": 32,
   "id": "b20a3a1f",
   "metadata": {
    "execution": {
     "iopub.execute_input": "2024-07-04T11:59:34.112349Z",
     "iopub.status.busy": "2024-07-04T11:59:34.111953Z",
     "iopub.status.idle": "2024-07-04T11:59:34.130758Z",
     "shell.execute_reply": "2024-07-04T11:59:34.129491Z"
    },
    "papermill": {
     "duration": 0.058232,
     "end_time": "2024-07-04T11:59:34.133543",
     "exception": false,
     "start_time": "2024-07-04T11:59:34.075311",
     "status": "completed"
    },
    "tags": []
   },
   "outputs": [
    {
     "data": {
      "text/html": [
       "<div>\n",
       "<style scoped>\n",
       "    .dataframe tbody tr th:only-of-type {\n",
       "        vertical-align: middle;\n",
       "    }\n",
       "\n",
       "    .dataframe tbody tr th {\n",
       "        vertical-align: top;\n",
       "    }\n",
       "\n",
       "    .dataframe thead th {\n",
       "        text-align: right;\n",
       "    }\n",
       "</style>\n",
       "<table border=\"1\" class=\"dataframe\">\n",
       "  <thead>\n",
       "    <tr style=\"text-align: right;\">\n",
       "      <th></th>\n",
       "      <th>short_name</th>\n",
       "      <th>player_positions</th>\n",
       "      <th>club_name</th>\n",
       "      <th>league_name</th>\n",
       "      <th>club_loaned_from</th>\n",
       "      <th>club_joined</th>\n",
       "      <th>nationality_name</th>\n",
       "      <th>preferred_foot</th>\n",
       "      <th>work_rate</th>\n",
       "      <th>body_type</th>\n",
       "      <th>sofifa_id</th>\n",
       "    </tr>\n",
       "  </thead>\n",
       "  <tbody>\n",
       "    <tr>\n",
       "      <th>0</th>\n",
       "      <td>L. Messi</td>\n",
       "      <td>RW</td>\n",
       "      <td>Paris Saint-Germain</td>\n",
       "      <td>French Ligue 1</td>\n",
       "      <td>NaN</td>\n",
       "      <td>2021-08-10</td>\n",
       "      <td>Argentina</td>\n",
       "      <td>Left</td>\n",
       "      <td>Medium/Low</td>\n",
       "      <td>Unique</td>\n",
       "      <td>158023</td>\n",
       "    </tr>\n",
       "    <tr>\n",
       "      <th>1</th>\n",
       "      <td>R. Lewandowski</td>\n",
       "      <td>ST</td>\n",
       "      <td>FC Bayern München</td>\n",
       "      <td>German 1. Bundesliga</td>\n",
       "      <td>NaN</td>\n",
       "      <td>2014-07-01</td>\n",
       "      <td>Poland</td>\n",
       "      <td>Right</td>\n",
       "      <td>High/Medium</td>\n",
       "      <td>Unique</td>\n",
       "      <td>188545</td>\n",
       "    </tr>\n",
       "    <tr>\n",
       "      <th>2</th>\n",
       "      <td>Cristiano Ronaldo</td>\n",
       "      <td>ST</td>\n",
       "      <td>Manchester United</td>\n",
       "      <td>English Premier League</td>\n",
       "      <td>NaN</td>\n",
       "      <td>2021-08-27</td>\n",
       "      <td>Portugal</td>\n",
       "      <td>Right</td>\n",
       "      <td>High/Low</td>\n",
       "      <td>Unique</td>\n",
       "      <td>20801</td>\n",
       "    </tr>\n",
       "    <tr>\n",
       "      <th>3</th>\n",
       "      <td>Neymar Jr</td>\n",
       "      <td>LW</td>\n",
       "      <td>Paris Saint-Germain</td>\n",
       "      <td>French Ligue 1</td>\n",
       "      <td>NaN</td>\n",
       "      <td>2017-08-03</td>\n",
       "      <td>Brazil</td>\n",
       "      <td>Right</td>\n",
       "      <td>High/Medium</td>\n",
       "      <td>Unique</td>\n",
       "      <td>190871</td>\n",
       "    </tr>\n",
       "    <tr>\n",
       "      <th>4</th>\n",
       "      <td>K. De Bruyne</td>\n",
       "      <td>CM</td>\n",
       "      <td>Manchester City</td>\n",
       "      <td>English Premier League</td>\n",
       "      <td>NaN</td>\n",
       "      <td>2015-08-30</td>\n",
       "      <td>Belgium</td>\n",
       "      <td>Right</td>\n",
       "      <td>High/High</td>\n",
       "      <td>Unique</td>\n",
       "      <td>192985</td>\n",
       "    </tr>\n",
       "  </tbody>\n",
       "</table>\n",
       "</div>"
      ],
      "text/plain": [
       "          short_name player_positions            club_name  \\\n",
       "0           L. Messi               RW  Paris Saint-Germain   \n",
       "1     R. Lewandowski               ST    FC Bayern München   \n",
       "2  Cristiano Ronaldo               ST    Manchester United   \n",
       "3          Neymar Jr               LW  Paris Saint-Germain   \n",
       "4       K. De Bruyne               CM      Manchester City   \n",
       "\n",
       "              league_name club_loaned_from club_joined nationality_name  \\\n",
       "0          French Ligue 1              NaN  2021-08-10        Argentina   \n",
       "1    German 1. Bundesliga              NaN  2014-07-01           Poland   \n",
       "2  English Premier League              NaN  2021-08-27         Portugal   \n",
       "3          French Ligue 1              NaN  2017-08-03           Brazil   \n",
       "4  English Premier League              NaN  2015-08-30          Belgium   \n",
       "\n",
       "  preferred_foot    work_rate body_type sofifa_id  \n",
       "0           Left   Medium/Low    Unique    158023  \n",
       "1          Right  High/Medium    Unique    188545  \n",
       "2          Right     High/Low    Unique     20801  \n",
       "3          Right  High/Medium    Unique    190871  \n",
       "4          Right    High/High    Unique    192985  "
      ]
     },
     "execution_count": 32,
     "metadata": {},
     "output_type": "execute_result"
    }
   ],
   "source": [
    "dataset_str.head()"
   ]
  },
  {
   "cell_type": "markdown",
   "id": "0892c7d3",
   "metadata": {
    "papermill": {
     "duration": 0.035803,
     "end_time": "2024-07-04T11:59:34.205820",
     "exception": false,
     "start_time": "2024-07-04T11:59:34.170017",
     "status": "completed"
    },
    "tags": []
   },
   "source": [
    "# Splitting into more descriptive tables\n",
    "* club - sofifa_id, club_name, league_name, club_loaned_from, club_joined, league_level, club_jersey_number, club_contract_valid_until, player_positions\n",
    "* skills - sofifa_id, overall, potential, work_rate, pace, shooting, passing, dribbling, defending, physic, defending_sliding_tackle\n",
    "* body_stats - sofifa_id, preferred_foot, body_type, age, height_cm, weight_kg\n",
    "* player_finance - sofifa_id, value_mln_eur, wage_k_eur, release_clause_mln_eur\n",
    "* player_international - international_reputation, nation_jersey_number, nationality_name\n",
    "* name - soffifa_id, short_name"
   ]
  },
  {
   "cell_type": "code",
   "execution_count": 33,
   "id": "b029bf5a",
   "metadata": {
    "execution": {
     "iopub.execute_input": "2024-07-04T11:59:34.278515Z",
     "iopub.status.busy": "2024-07-04T11:59:34.278099Z",
     "iopub.status.idle": "2024-07-04T11:59:34.310516Z",
     "shell.execute_reply": "2024-07-04T11:59:34.308994Z"
    },
    "papermill": {
     "duration": 0.073275,
     "end_time": "2024-07-04T11:59:34.314470",
     "exception": false,
     "start_time": "2024-07-04T11:59:34.241195",
     "status": "completed"
    },
    "tags": []
   },
   "outputs": [
    {
     "data": {
      "text/html": [
       "<div>\n",
       "<style scoped>\n",
       "    .dataframe tbody tr th:only-of-type {\n",
       "        vertical-align: middle;\n",
       "    }\n",
       "\n",
       "    .dataframe tbody tr th {\n",
       "        vertical-align: top;\n",
       "    }\n",
       "\n",
       "    .dataframe thead th {\n",
       "        text-align: right;\n",
       "    }\n",
       "</style>\n",
       "<table border=\"1\" class=\"dataframe\">\n",
       "  <thead>\n",
       "    <tr style=\"text-align: right;\">\n",
       "      <th></th>\n",
       "      <th>sofifa_id</th>\n",
       "      <th>club_name</th>\n",
       "      <th>league_name</th>\n",
       "      <th>club_loaned_from</th>\n",
       "      <th>club_joined</th>\n",
       "      <th>player_positions</th>\n",
       "      <th>league_level</th>\n",
       "      <th>club_jersey_number</th>\n",
       "      <th>club_contract_valid_until</th>\n",
       "    </tr>\n",
       "  </thead>\n",
       "  <tbody>\n",
       "    <tr>\n",
       "      <th>0</th>\n",
       "      <td>158023</td>\n",
       "      <td>Paris Saint-Germain</td>\n",
       "      <td>French Ligue 1</td>\n",
       "      <td>NaN</td>\n",
       "      <td>2021-08-10</td>\n",
       "      <td>RW</td>\n",
       "      <td>1.0</td>\n",
       "      <td>30.0</td>\n",
       "      <td>2023.0</td>\n",
       "    </tr>\n",
       "    <tr>\n",
       "      <th>1</th>\n",
       "      <td>188545</td>\n",
       "      <td>FC Bayern München</td>\n",
       "      <td>German 1. Bundesliga</td>\n",
       "      <td>NaN</td>\n",
       "      <td>2014-07-01</td>\n",
       "      <td>ST</td>\n",
       "      <td>1.0</td>\n",
       "      <td>9.0</td>\n",
       "      <td>2023.0</td>\n",
       "    </tr>\n",
       "    <tr>\n",
       "      <th>2</th>\n",
       "      <td>20801</td>\n",
       "      <td>Manchester United</td>\n",
       "      <td>English Premier League</td>\n",
       "      <td>NaN</td>\n",
       "      <td>2021-08-27</td>\n",
       "      <td>ST</td>\n",
       "      <td>1.0</td>\n",
       "      <td>7.0</td>\n",
       "      <td>2023.0</td>\n",
       "    </tr>\n",
       "    <tr>\n",
       "      <th>3</th>\n",
       "      <td>190871</td>\n",
       "      <td>Paris Saint-Germain</td>\n",
       "      <td>French Ligue 1</td>\n",
       "      <td>NaN</td>\n",
       "      <td>2017-08-03</td>\n",
       "      <td>LW</td>\n",
       "      <td>1.0</td>\n",
       "      <td>10.0</td>\n",
       "      <td>2025.0</td>\n",
       "    </tr>\n",
       "    <tr>\n",
       "      <th>4</th>\n",
       "      <td>192985</td>\n",
       "      <td>Manchester City</td>\n",
       "      <td>English Premier League</td>\n",
       "      <td>NaN</td>\n",
       "      <td>2015-08-30</td>\n",
       "      <td>CM</td>\n",
       "      <td>1.0</td>\n",
       "      <td>17.0</td>\n",
       "      <td>2025.0</td>\n",
       "    </tr>\n",
       "  </tbody>\n",
       "</table>\n",
       "</div>"
      ],
      "text/plain": [
       "  sofifa_id            club_name             league_name club_loaned_from  \\\n",
       "0    158023  Paris Saint-Germain          French Ligue 1              NaN   \n",
       "1    188545    FC Bayern München    German 1. Bundesliga              NaN   \n",
       "2     20801    Manchester United  English Premier League              NaN   \n",
       "3    190871  Paris Saint-Germain          French Ligue 1              NaN   \n",
       "4    192985      Manchester City  English Premier League              NaN   \n",
       "\n",
       "  club_joined player_positions  league_level  club_jersey_number  \\\n",
       "0  2021-08-10               RW           1.0                30.0   \n",
       "1  2014-07-01               ST           1.0                 9.0   \n",
       "2  2021-08-27               ST           1.0                 7.0   \n",
       "3  2017-08-03               LW           1.0                10.0   \n",
       "4  2015-08-30               CM           1.0                17.0   \n",
       "\n",
       "   club_contract_valid_until  \n",
       "0                     2023.0  \n",
       "1                     2023.0  \n",
       "2                     2023.0  \n",
       "3                     2025.0  \n",
       "4                     2025.0  "
      ]
     },
     "execution_count": 33,
     "metadata": {},
     "output_type": "execute_result"
    }
   ],
   "source": [
    "club_str = dataset_str[[\"sofifa_id\", \"club_name\", \"league_name\", \"club_loaned_from\", \"club_joined\",\"player_positions\"]]\n",
    "club_num = dataset_num[[\"league_level\", \"club_jersey_number\", \"club_contract_valid_until\"]]\n",
    "club = pd.concat([club_str, club_num], axis=1)\n",
    "club.head()"
   ]
  },
  {
   "cell_type": "code",
   "execution_count": 34,
   "id": "83e40550",
   "metadata": {
    "execution": {
     "iopub.execute_input": "2024-07-04T11:59:34.398516Z",
     "iopub.status.busy": "2024-07-04T11:59:34.397979Z",
     "iopub.status.idle": "2024-07-04T11:59:34.428774Z",
     "shell.execute_reply": "2024-07-04T11:59:34.427413Z"
    },
    "papermill": {
     "duration": 0.071617,
     "end_time": "2024-07-04T11:59:34.431538",
     "exception": false,
     "start_time": "2024-07-04T11:59:34.359921",
     "status": "completed"
    },
    "tags": []
   },
   "outputs": [
    {
     "data": {
      "text/html": [
       "<div>\n",
       "<style scoped>\n",
       "    .dataframe tbody tr th:only-of-type {\n",
       "        vertical-align: middle;\n",
       "    }\n",
       "\n",
       "    .dataframe tbody tr th {\n",
       "        vertical-align: top;\n",
       "    }\n",
       "\n",
       "    .dataframe thead th {\n",
       "        text-align: right;\n",
       "    }\n",
       "</style>\n",
       "<table border=\"1\" class=\"dataframe\">\n",
       "  <thead>\n",
       "    <tr style=\"text-align: right;\">\n",
       "      <th></th>\n",
       "      <th>sofifa_id</th>\n",
       "      <th>work_rate</th>\n",
       "      <th>overall</th>\n",
       "      <th>potential</th>\n",
       "      <th>pace</th>\n",
       "      <th>shooting</th>\n",
       "      <th>passing</th>\n",
       "      <th>dribbling</th>\n",
       "      <th>defending</th>\n",
       "      <th>physic</th>\n",
       "      <th>defending_sliding_tackle</th>\n",
       "      <th>skill_moves</th>\n",
       "      <th>weak_foot_points</th>\n",
       "    </tr>\n",
       "  </thead>\n",
       "  <tbody>\n",
       "    <tr>\n",
       "      <th>0</th>\n",
       "      <td>158023</td>\n",
       "      <td>Medium/Low</td>\n",
       "      <td>93</td>\n",
       "      <td>93</td>\n",
       "      <td>85.0</td>\n",
       "      <td>92.0</td>\n",
       "      <td>91.0</td>\n",
       "      <td>95.0</td>\n",
       "      <td>34.0</td>\n",
       "      <td>65.0</td>\n",
       "      <td>24</td>\n",
       "      <td>4</td>\n",
       "      <td>4</td>\n",
       "    </tr>\n",
       "    <tr>\n",
       "      <th>1</th>\n",
       "      <td>188545</td>\n",
       "      <td>High/Medium</td>\n",
       "      <td>92</td>\n",
       "      <td>92</td>\n",
       "      <td>78.0</td>\n",
       "      <td>92.0</td>\n",
       "      <td>79.0</td>\n",
       "      <td>86.0</td>\n",
       "      <td>44.0</td>\n",
       "      <td>82.0</td>\n",
       "      <td>19</td>\n",
       "      <td>4</td>\n",
       "      <td>4</td>\n",
       "    </tr>\n",
       "    <tr>\n",
       "      <th>2</th>\n",
       "      <td>20801</td>\n",
       "      <td>High/Low</td>\n",
       "      <td>91</td>\n",
       "      <td>91</td>\n",
       "      <td>87.0</td>\n",
       "      <td>94.0</td>\n",
       "      <td>80.0</td>\n",
       "      <td>88.0</td>\n",
       "      <td>34.0</td>\n",
       "      <td>75.0</td>\n",
       "      <td>24</td>\n",
       "      <td>5</td>\n",
       "      <td>4</td>\n",
       "    </tr>\n",
       "    <tr>\n",
       "      <th>3</th>\n",
       "      <td>190871</td>\n",
       "      <td>High/Medium</td>\n",
       "      <td>91</td>\n",
       "      <td>91</td>\n",
       "      <td>91.0</td>\n",
       "      <td>83.0</td>\n",
       "      <td>86.0</td>\n",
       "      <td>94.0</td>\n",
       "      <td>37.0</td>\n",
       "      <td>63.0</td>\n",
       "      <td>29</td>\n",
       "      <td>5</td>\n",
       "      <td>5</td>\n",
       "    </tr>\n",
       "    <tr>\n",
       "      <th>4</th>\n",
       "      <td>192985</td>\n",
       "      <td>High/High</td>\n",
       "      <td>91</td>\n",
       "      <td>91</td>\n",
       "      <td>76.0</td>\n",
       "      <td>86.0</td>\n",
       "      <td>93.0</td>\n",
       "      <td>88.0</td>\n",
       "      <td>64.0</td>\n",
       "      <td>78.0</td>\n",
       "      <td>53</td>\n",
       "      <td>4</td>\n",
       "      <td>5</td>\n",
       "    </tr>\n",
       "  </tbody>\n",
       "</table>\n",
       "</div>"
      ],
      "text/plain": [
       "  sofifa_id    work_rate  overall  potential  pace  shooting  passing  \\\n",
       "0    158023   Medium/Low       93         93  85.0      92.0     91.0   \n",
       "1    188545  High/Medium       92         92  78.0      92.0     79.0   \n",
       "2     20801     High/Low       91         91  87.0      94.0     80.0   \n",
       "3    190871  High/Medium       91         91  91.0      83.0     86.0   \n",
       "4    192985    High/High       91         91  76.0      86.0     93.0   \n",
       "\n",
       "   dribbling  defending  physic  defending_sliding_tackle  skill_moves  \\\n",
       "0       95.0       34.0    65.0                        24            4   \n",
       "1       86.0       44.0    82.0                        19            4   \n",
       "2       88.0       34.0    75.0                        24            5   \n",
       "3       94.0       37.0    63.0                        29            5   \n",
       "4       88.0       64.0    78.0                        53            4   \n",
       "\n",
       "   weak_foot_points  \n",
       "0                 4  \n",
       "1                 4  \n",
       "2                 4  \n",
       "3                 5  \n",
       "4                 5  "
      ]
     },
     "execution_count": 34,
     "metadata": {},
     "output_type": "execute_result"
    }
   ],
   "source": [
    "skills_str = dataset_str[[\"sofifa_id\", \"work_rate\"]]\n",
    "skills_num = dataset_num[[\"overall\", \"potential\", \"pace\", \"shooting\", \"passing\", \"dribbling\", \"defending\", \"physic\", \"defending_sliding_tackle\", \n",
    "                          \"skill_moves\", \"weak_foot_points\"]]\n",
    "skills = pd.concat([skills_str, skills_num], axis=1)\n",
    "skills.head()"
   ]
  },
  {
   "cell_type": "code",
   "execution_count": 35,
   "id": "5e523712",
   "metadata": {
    "execution": {
     "iopub.execute_input": "2024-07-04T11:59:34.514400Z",
     "iopub.status.busy": "2024-07-04T11:59:34.513462Z",
     "iopub.status.idle": "2024-07-04T11:59:34.538294Z",
     "shell.execute_reply": "2024-07-04T11:59:34.536933Z"
    },
    "papermill": {
     "duration": 0.066703,
     "end_time": "2024-07-04T11:59:34.541025",
     "exception": false,
     "start_time": "2024-07-04T11:59:34.474322",
     "status": "completed"
    },
    "tags": []
   },
   "outputs": [
    {
     "data": {
      "text/html": [
       "<div>\n",
       "<style scoped>\n",
       "    .dataframe tbody tr th:only-of-type {\n",
       "        vertical-align: middle;\n",
       "    }\n",
       "\n",
       "    .dataframe tbody tr th {\n",
       "        vertical-align: top;\n",
       "    }\n",
       "\n",
       "    .dataframe thead th {\n",
       "        text-align: right;\n",
       "    }\n",
       "</style>\n",
       "<table border=\"1\" class=\"dataframe\">\n",
       "  <thead>\n",
       "    <tr style=\"text-align: right;\">\n",
       "      <th></th>\n",
       "      <th>sofifa_id</th>\n",
       "      <th>preferred_foot</th>\n",
       "      <th>body_type</th>\n",
       "      <th>age</th>\n",
       "      <th>height_cm</th>\n",
       "      <th>weight_kg</th>\n",
       "    </tr>\n",
       "  </thead>\n",
       "  <tbody>\n",
       "    <tr>\n",
       "      <th>0</th>\n",
       "      <td>158023</td>\n",
       "      <td>Left</td>\n",
       "      <td>Unique</td>\n",
       "      <td>34</td>\n",
       "      <td>170</td>\n",
       "      <td>72</td>\n",
       "    </tr>\n",
       "    <tr>\n",
       "      <th>1</th>\n",
       "      <td>188545</td>\n",
       "      <td>Right</td>\n",
       "      <td>Unique</td>\n",
       "      <td>32</td>\n",
       "      <td>185</td>\n",
       "      <td>81</td>\n",
       "    </tr>\n",
       "    <tr>\n",
       "      <th>2</th>\n",
       "      <td>20801</td>\n",
       "      <td>Right</td>\n",
       "      <td>Unique</td>\n",
       "      <td>36</td>\n",
       "      <td>187</td>\n",
       "      <td>83</td>\n",
       "    </tr>\n",
       "    <tr>\n",
       "      <th>3</th>\n",
       "      <td>190871</td>\n",
       "      <td>Right</td>\n",
       "      <td>Unique</td>\n",
       "      <td>29</td>\n",
       "      <td>175</td>\n",
       "      <td>68</td>\n",
       "    </tr>\n",
       "    <tr>\n",
       "      <th>4</th>\n",
       "      <td>192985</td>\n",
       "      <td>Right</td>\n",
       "      <td>Unique</td>\n",
       "      <td>30</td>\n",
       "      <td>181</td>\n",
       "      <td>70</td>\n",
       "    </tr>\n",
       "  </tbody>\n",
       "</table>\n",
       "</div>"
      ],
      "text/plain": [
       "  sofifa_id preferred_foot body_type  age  height_cm  weight_kg\n",
       "0    158023           Left    Unique   34        170         72\n",
       "1    188545          Right    Unique   32        185         81\n",
       "2     20801          Right    Unique   36        187         83\n",
       "3    190871          Right    Unique   29        175         68\n",
       "4    192985          Right    Unique   30        181         70"
      ]
     },
     "execution_count": 35,
     "metadata": {},
     "output_type": "execute_result"
    }
   ],
   "source": [
    "body_stats_str = dataset_str[[\"sofifa_id\", \"preferred_foot\", \"body_type\"]]\n",
    "body_stats_num = dataset_num[[\"age\", \"height_cm\", \"weight_kg\"]]\n",
    "body_stats = pd.concat([body_stats_str, body_stats_num], axis=1)\n",
    "body_stats.head()"
   ]
  },
  {
   "cell_type": "code",
   "execution_count": 36,
   "id": "2da330e6",
   "metadata": {
    "execution": {
     "iopub.execute_input": "2024-07-04T11:59:34.619740Z",
     "iopub.status.busy": "2024-07-04T11:59:34.619249Z",
     "iopub.status.idle": "2024-07-04T11:59:34.646622Z",
     "shell.execute_reply": "2024-07-04T11:59:34.645423Z"
    },
    "papermill": {
     "duration": 0.070198,
     "end_time": "2024-07-04T11:59:34.649521",
     "exception": false,
     "start_time": "2024-07-04T11:59:34.579323",
     "status": "completed"
    },
    "tags": []
   },
   "outputs": [
    {
     "data": {
      "text/html": [
       "<div>\n",
       "<style scoped>\n",
       "    .dataframe tbody tr th:only-of-type {\n",
       "        vertical-align: middle;\n",
       "    }\n",
       "\n",
       "    .dataframe tbody tr th {\n",
       "        vertical-align: top;\n",
       "    }\n",
       "\n",
       "    .dataframe thead th {\n",
       "        text-align: right;\n",
       "    }\n",
       "</style>\n",
       "<table border=\"1\" class=\"dataframe\">\n",
       "  <thead>\n",
       "    <tr style=\"text-align: right;\">\n",
       "      <th></th>\n",
       "      <th>sofifa_id</th>\n",
       "      <th>value_mln_eur</th>\n",
       "      <th>wage_k_eur</th>\n",
       "      <th>release_clause_mln_eur</th>\n",
       "    </tr>\n",
       "  </thead>\n",
       "  <tbody>\n",
       "    <tr>\n",
       "      <th>0</th>\n",
       "      <td>158023</td>\n",
       "      <td>78.0</td>\n",
       "      <td>320.0</td>\n",
       "      <td>144.3</td>\n",
       "    </tr>\n",
       "    <tr>\n",
       "      <th>1</th>\n",
       "      <td>188545</td>\n",
       "      <td>119.5</td>\n",
       "      <td>270.0</td>\n",
       "      <td>197.2</td>\n",
       "    </tr>\n",
       "    <tr>\n",
       "      <th>2</th>\n",
       "      <td>20801</td>\n",
       "      <td>45.0</td>\n",
       "      <td>270.0</td>\n",
       "      <td>83.3</td>\n",
       "    </tr>\n",
       "    <tr>\n",
       "      <th>3</th>\n",
       "      <td>190871</td>\n",
       "      <td>129.0</td>\n",
       "      <td>270.0</td>\n",
       "      <td>238.7</td>\n",
       "    </tr>\n",
       "    <tr>\n",
       "      <th>4</th>\n",
       "      <td>192985</td>\n",
       "      <td>125.5</td>\n",
       "      <td>350.0</td>\n",
       "      <td>232.2</td>\n",
       "    </tr>\n",
       "  </tbody>\n",
       "</table>\n",
       "</div>"
      ],
      "text/plain": [
       "  sofifa_id  value_mln_eur  wage_k_eur  release_clause_mln_eur\n",
       "0    158023           78.0       320.0                   144.3\n",
       "1    188545          119.5       270.0                   197.2\n",
       "2     20801           45.0       270.0                    83.3\n",
       "3    190871          129.0       270.0                   238.7\n",
       "4    192985          125.5       350.0                   232.2"
      ]
     },
     "execution_count": 36,
     "metadata": {},
     "output_type": "execute_result"
    }
   ],
   "source": [
    "player_finance_str = dataset_str[[\"sofifa_id\"]]\n",
    "player_finance_num = dataset_num[[\"value_mln_eur\", \"wage_k_eur\", \"release_clause_mln_eur\"]]\n",
    "player_finance = pd.concat([player_finance_str, player_finance_num], axis=1)\n",
    "player_finance.head()"
   ]
  },
  {
   "cell_type": "code",
   "execution_count": 37,
   "id": "51014e55",
   "metadata": {
    "execution": {
     "iopub.execute_input": "2024-07-04T11:59:34.725741Z",
     "iopub.status.busy": "2024-07-04T11:59:34.725231Z",
     "iopub.status.idle": "2024-07-04T11:59:34.746512Z",
     "shell.execute_reply": "2024-07-04T11:59:34.745276Z"
    },
    "papermill": {
     "duration": 0.062486,
     "end_time": "2024-07-04T11:59:34.749224",
     "exception": false,
     "start_time": "2024-07-04T11:59:34.686738",
     "status": "completed"
    },
    "tags": []
   },
   "outputs": [
    {
     "data": {
      "text/html": [
       "<div>\n",
       "<style scoped>\n",
       "    .dataframe tbody tr th:only-of-type {\n",
       "        vertical-align: middle;\n",
       "    }\n",
       "\n",
       "    .dataframe tbody tr th {\n",
       "        vertical-align: top;\n",
       "    }\n",
       "\n",
       "    .dataframe thead th {\n",
       "        text-align: right;\n",
       "    }\n",
       "</style>\n",
       "<table border=\"1\" class=\"dataframe\">\n",
       "  <thead>\n",
       "    <tr style=\"text-align: right;\">\n",
       "      <th></th>\n",
       "      <th>sofifa_id</th>\n",
       "      <th>nationality_name</th>\n",
       "      <th>international_reputation</th>\n",
       "      <th>nation_jersey_number</th>\n",
       "    </tr>\n",
       "  </thead>\n",
       "  <tbody>\n",
       "    <tr>\n",
       "      <th>0</th>\n",
       "      <td>158023</td>\n",
       "      <td>Argentina</td>\n",
       "      <td>5</td>\n",
       "      <td>10.0</td>\n",
       "    </tr>\n",
       "    <tr>\n",
       "      <th>1</th>\n",
       "      <td>188545</td>\n",
       "      <td>Poland</td>\n",
       "      <td>5</td>\n",
       "      <td>9.0</td>\n",
       "    </tr>\n",
       "    <tr>\n",
       "      <th>2</th>\n",
       "      <td>20801</td>\n",
       "      <td>Portugal</td>\n",
       "      <td>5</td>\n",
       "      <td>7.0</td>\n",
       "    </tr>\n",
       "    <tr>\n",
       "      <th>3</th>\n",
       "      <td>190871</td>\n",
       "      <td>Brazil</td>\n",
       "      <td>5</td>\n",
       "      <td>NaN</td>\n",
       "    </tr>\n",
       "    <tr>\n",
       "      <th>4</th>\n",
       "      <td>192985</td>\n",
       "      <td>Belgium</td>\n",
       "      <td>4</td>\n",
       "      <td>7.0</td>\n",
       "    </tr>\n",
       "  </tbody>\n",
       "</table>\n",
       "</div>"
      ],
      "text/plain": [
       "  sofifa_id nationality_name  international_reputation  nation_jersey_number\n",
       "0    158023        Argentina                         5                  10.0\n",
       "1    188545           Poland                         5                   9.0\n",
       "2     20801         Portugal                         5                   7.0\n",
       "3    190871           Brazil                         5                   NaN\n",
       "4    192985          Belgium                         4                   7.0"
      ]
     },
     "execution_count": 37,
     "metadata": {},
     "output_type": "execute_result"
    }
   ],
   "source": [
    "player_international_str = dataset_str[[\"sofifa_id\", \"nationality_name\"]]\n",
    "player_international_num = dataset_num[[\"international_reputation\", \"nation_jersey_number\"]]\n",
    "player_international = pd.concat([player_international_str, player_international_num], axis=1)\n",
    "player_international.head()"
   ]
  },
  {
   "cell_type": "code",
   "execution_count": 38,
   "id": "948befa9",
   "metadata": {
    "execution": {
     "iopub.execute_input": "2024-07-04T11:59:34.834490Z",
     "iopub.status.busy": "2024-07-04T11:59:34.833949Z",
     "iopub.status.idle": "2024-07-04T11:59:34.849806Z",
     "shell.execute_reply": "2024-07-04T11:59:34.848646Z"
    },
    "papermill": {
     "duration": 0.061098,
     "end_time": "2024-07-04T11:59:34.852819",
     "exception": false,
     "start_time": "2024-07-04T11:59:34.791721",
     "status": "completed"
    },
    "tags": []
   },
   "outputs": [
    {
     "data": {
      "text/html": [
       "<div>\n",
       "<style scoped>\n",
       "    .dataframe tbody tr th:only-of-type {\n",
       "        vertical-align: middle;\n",
       "    }\n",
       "\n",
       "    .dataframe tbody tr th {\n",
       "        vertical-align: top;\n",
       "    }\n",
       "\n",
       "    .dataframe thead th {\n",
       "        text-align: right;\n",
       "    }\n",
       "</style>\n",
       "<table border=\"1\" class=\"dataframe\">\n",
       "  <thead>\n",
       "    <tr style=\"text-align: right;\">\n",
       "      <th></th>\n",
       "      <th>sofifa_id</th>\n",
       "      <th>short_name</th>\n",
       "    </tr>\n",
       "  </thead>\n",
       "  <tbody>\n",
       "    <tr>\n",
       "      <th>0</th>\n",
       "      <td>158023</td>\n",
       "      <td>L. Messi</td>\n",
       "    </tr>\n",
       "    <tr>\n",
       "      <th>1</th>\n",
       "      <td>188545</td>\n",
       "      <td>R. Lewandowski</td>\n",
       "    </tr>\n",
       "    <tr>\n",
       "      <th>2</th>\n",
       "      <td>20801</td>\n",
       "      <td>Cristiano Ronaldo</td>\n",
       "    </tr>\n",
       "    <tr>\n",
       "      <th>3</th>\n",
       "      <td>190871</td>\n",
       "      <td>Neymar Jr</td>\n",
       "    </tr>\n",
       "    <tr>\n",
       "      <th>4</th>\n",
       "      <td>192985</td>\n",
       "      <td>K. De Bruyne</td>\n",
       "    </tr>\n",
       "  </tbody>\n",
       "</table>\n",
       "</div>"
      ],
      "text/plain": [
       "  sofifa_id         short_name\n",
       "0    158023           L. Messi\n",
       "1    188545     R. Lewandowski\n",
       "2     20801  Cristiano Ronaldo\n",
       "3    190871          Neymar Jr\n",
       "4    192985       K. De Bruyne"
      ]
     },
     "execution_count": 38,
     "metadata": {},
     "output_type": "execute_result"
    }
   ],
   "source": [
    "player_name = dataset_str[[\"sofifa_id\", \"short_name\"]]\n",
    "player_name.head()"
   ]
  },
  {
   "cell_type": "markdown",
   "id": "b805c504",
   "metadata": {
    "papermill": {
     "duration": 0.036662,
     "end_time": "2024-07-04T11:59:34.930172",
     "exception": false,
     "start_time": "2024-07-04T11:59:34.893510",
     "status": "completed"
    },
    "tags": []
   },
   "source": [
    "* removing pointers to num and str datasets "
   ]
  },
  {
   "cell_type": "code",
   "execution_count": 39,
   "id": "3632bb44",
   "metadata": {
    "execution": {
     "iopub.execute_input": "2024-07-04T11:59:35.007420Z",
     "iopub.status.busy": "2024-07-04T11:59:35.006994Z",
     "iopub.status.idle": "2024-07-04T11:59:35.012249Z",
     "shell.execute_reply": "2024-07-04T11:59:35.011022Z"
    },
    "papermill": {
     "duration": 0.046037,
     "end_time": "2024-07-04T11:59:35.014929",
     "exception": false,
     "start_time": "2024-07-04T11:59:34.968892",
     "status": "completed"
    },
    "tags": []
   },
   "outputs": [],
   "source": [
    "del dataset_num, dataset_str"
   ]
  },
  {
   "cell_type": "markdown",
   "id": "6a8dffe2",
   "metadata": {
    "papermill": {
     "duration": 0.036611,
     "end_time": "2024-07-04T11:59:35.088545",
     "exception": false,
     "start_time": "2024-07-04T11:59:35.051934",
     "status": "completed"
    },
    "tags": []
   },
   "source": [
    "* taking closer look at player_position column, we have 15 different pisitions. But we can group them up into 4 positions, goalkeepers, defenders, midfields, forward"
   ]
  },
  {
   "cell_type": "code",
   "execution_count": 40,
   "id": "40635e92",
   "metadata": {
    "execution": {
     "iopub.execute_input": "2024-07-04T11:59:35.164657Z",
     "iopub.status.busy": "2024-07-04T11:59:35.164074Z",
     "iopub.status.idle": "2024-07-04T11:59:35.178193Z",
     "shell.execute_reply": "2024-07-04T11:59:35.177067Z"
    },
    "papermill": {
     "duration": 0.055826,
     "end_time": "2024-07-04T11:59:35.181455",
     "exception": false,
     "start_time": "2024-07-04T11:59:35.125629",
     "status": "completed"
    },
    "tags": []
   },
   "outputs": [
    {
     "data": {
      "text/plain": [
       "player_positions\n",
       "CB     3339\n",
       "ST     2608\n",
       "CM     2173\n",
       "GK     2132\n",
       "CDM    1665\n",
       "LB     1360\n",
       "RB     1346\n",
       "CAM    1151\n",
       "RM     1028\n",
       "LM     1016\n",
       "RW      495\n",
       "LW      435\n",
       "RWB     178\n",
       "LWB     171\n",
       "CF      142\n",
       "Name: count, dtype: int64"
      ]
     },
     "execution_count": 40,
     "metadata": {},
     "output_type": "execute_result"
    }
   ],
   "source": [
    "club[\"player_positions\"].value_counts()"
   ]
  },
  {
   "cell_type": "code",
   "execution_count": 41,
   "id": "b1c91d39",
   "metadata": {
    "execution": {
     "iopub.execute_input": "2024-07-04T11:59:35.263424Z",
     "iopub.status.busy": "2024-07-04T11:59:35.262055Z",
     "iopub.status.idle": "2024-07-04T11:59:35.279434Z",
     "shell.execute_reply": "2024-07-04T11:59:35.278143Z"
    },
    "papermill": {
     "duration": 0.059841,
     "end_time": "2024-07-04T11:59:35.282317",
     "exception": false,
     "start_time": "2024-07-04T11:59:35.222476",
     "status": "completed"
    },
    "tags": []
   },
   "outputs": [],
   "source": [
    "group_mapping = {\"GK\":\"goalkeepers\",\n",
    "                 \"CB\": \"defenders\", \"RB\": \"defenders\", \"LB\": \"defenders\", \"RWB\": \"defenders\", \"LWB\": \"defenders\",\n",
    "                 \"CM\": \"midfield\", \"CDM\": \"midfield\", \"CAM\": \"midfield\", \"RM\": \"midfield\", \"LM\": \"midfield\",\n",
    "                 \"ST\": \"forward\", \"CF\": \"forward\", \"RW\": \"forward\", \"RM\": \"forward\", \"LW\": \"forward\",}\n",
    "\n",
    "club[\"position\"] = club[\"player_positions\"].map(group_mapping)\n",
    "club.drop(columns = [\"player_positions\"], axis=\"columns\", inplace = True)"
   ]
  },
  {
   "cell_type": "code",
   "execution_count": 42,
   "id": "20113e21",
   "metadata": {
    "execution": {
     "iopub.execute_input": "2024-07-04T11:59:35.360399Z",
     "iopub.status.busy": "2024-07-04T11:59:35.359880Z",
     "iopub.status.idle": "2024-07-04T11:59:35.374681Z",
     "shell.execute_reply": "2024-07-04T11:59:35.373403Z"
    },
    "papermill": {
     "duration": 0.057243,
     "end_time": "2024-07-04T11:59:35.377346",
     "exception": false,
     "start_time": "2024-07-04T11:59:35.320103",
     "status": "completed"
    },
    "tags": []
   },
   "outputs": [
    {
     "data": {
      "text/plain": [
       "position\n",
       "defenders      6394\n",
       "midfield       6005\n",
       "forward        4708\n",
       "goalkeepers    2132\n",
       "Name: count, dtype: int64"
      ]
     },
     "execution_count": 42,
     "metadata": {},
     "output_type": "execute_result"
    }
   ],
   "source": [
    "club[\"position\"].value_counts()"
   ]
  },
  {
   "cell_type": "markdown",
   "id": "664d87c0",
   "metadata": {
    "papermill": {
     "duration": 0.037673,
     "end_time": "2024-07-04T11:59:35.452529",
     "exception": false,
     "start_time": "2024-07-04T11:59:35.414856",
     "status": "completed"
    },
    "tags": []
   },
   "source": [
    "# Asking questions\n",
    "- what would look like a team with best possible overall rating and lowest possible overall price (value) and players over 75+?\n",
    "- which countries have best and worst prodigies based on potential score?\n",
    "- which player over 75 overall points have most balances = less difference between each skills points and vice versa?\n",
    "- does club joined date = days in club affect on player overall? Compare with low tier and high tier league\n",
    "- Is there a correlation between work rate and club worth?\n",
    "- in table format describe top 5 and bottom 5 clubs from premier league in terms of work_rate and compare their finances\n",
    "- which nationality contains most players who plays with each other in the same club?\n",
    "- which leagues gather most market value in players"
   ]
  },
  {
   "cell_type": "markdown",
   "id": "590e71f3",
   "metadata": {
    "papermill": {
     "duration": 0.037053,
     "end_time": "2024-07-04T11:59:35.527852",
     "exception": false,
     "start_time": "2024-07-04T11:59:35.490799",
     "status": "completed"
    },
    "tags": []
   },
   "source": [
    "## Q : what would look like a team with best possible overall rating and lowest possible overall price (value) and players over 75+?"
   ]
  },
  {
   "cell_type": "code",
   "execution_count": 43,
   "id": "20cd8899",
   "metadata": {
    "execution": {
     "iopub.execute_input": "2024-07-04T11:59:35.607937Z",
     "iopub.status.busy": "2024-07-04T11:59:35.607479Z",
     "iopub.status.idle": "2024-07-04T11:59:35.631096Z",
     "shell.execute_reply": "2024-07-04T11:59:35.629914Z"
    },
    "papermill": {
     "duration": 0.066243,
     "end_time": "2024-07-04T11:59:35.633668",
     "exception": false,
     "start_time": "2024-07-04T11:59:35.567425",
     "status": "completed"
    },
    "tags": []
   },
   "outputs": [
    {
     "data": {
      "text/html": [
       "<div>\n",
       "<style scoped>\n",
       "    .dataframe tbody tr th:only-of-type {\n",
       "        vertical-align: middle;\n",
       "    }\n",
       "\n",
       "    .dataframe tbody tr th {\n",
       "        vertical-align: top;\n",
       "    }\n",
       "\n",
       "    .dataframe thead th {\n",
       "        text-align: right;\n",
       "    }\n",
       "</style>\n",
       "<table border=\"1\" class=\"dataframe\">\n",
       "  <thead>\n",
       "    <tr style=\"text-align: right;\">\n",
       "      <th></th>\n",
       "      <th>position</th>\n",
       "      <th>value_mln_eur</th>\n",
       "      <th>short_name</th>\n",
       "      <th>overall</th>\n",
       "      <th>overall/value ratio</th>\n",
       "    </tr>\n",
       "  </thead>\n",
       "  <tbody>\n",
       "    <tr>\n",
       "      <th>0</th>\n",
       "      <td>forward</td>\n",
       "      <td>78.0</td>\n",
       "      <td>L. Messi</td>\n",
       "      <td>93</td>\n",
       "      <td>0.838710</td>\n",
       "    </tr>\n",
       "    <tr>\n",
       "      <th>1</th>\n",
       "      <td>forward</td>\n",
       "      <td>119.5</td>\n",
       "      <td>R. Lewandowski</td>\n",
       "      <td>92</td>\n",
       "      <td>1.298913</td>\n",
       "    </tr>\n",
       "  </tbody>\n",
       "</table>\n",
       "</div>"
      ],
      "text/plain": [
       "  position  value_mln_eur      short_name  overall  overall/value ratio\n",
       "0  forward           78.0        L. Messi       93             0.838710\n",
       "1  forward          119.5  R. Lewandowski       92             1.298913"
      ]
     },
     "execution_count": 43,
     "metadata": {},
     "output_type": "execute_result"
    }
   ],
   "source": [
    "question1 = pd.concat([club[[\"position\"]], player_finance[[\"value_mln_eur\"]], player_name[[\"short_name\"]], skills[[\"overall\"]]], axis = 1)\n",
    "question1[\"overall/value ratio\"] =  question1[\"value_mln_eur\"] / question1[\"overall\"]\n",
    "question1 = question1[question1[\"overall\"] > 75]\n",
    "question1.head(2)"
   ]
  },
  {
   "cell_type": "markdown",
   "id": "1846130e",
   "metadata": {
    "papermill": {
     "duration": 0.037104,
     "end_time": "2024-07-04T11:59:35.708187",
     "exception": false,
     "start_time": "2024-07-04T11:59:35.671083",
     "status": "completed"
    },
    "tags": []
   },
   "source": [
    "* We neeed 1 goalkeeper, 4 defenders, 3 midfields and 3 forward players"
   ]
  },
  {
   "cell_type": "code",
   "execution_count": 44,
   "id": "b4e0c6f0",
   "metadata": {
    "execution": {
     "iopub.execute_input": "2024-07-04T11:59:35.785015Z",
     "iopub.status.busy": "2024-07-04T11:59:35.784622Z",
     "iopub.status.idle": "2024-07-04T11:59:35.807564Z",
     "shell.execute_reply": "2024-07-04T11:59:35.806292Z"
    },
    "papermill": {
     "duration": 0.064622,
     "end_time": "2024-07-04T11:59:35.810311",
     "exception": false,
     "start_time": "2024-07-04T11:59:35.745689",
     "status": "completed"
    },
    "tags": []
   },
   "outputs": [
    {
     "name": "stderr",
     "output_type": "stream",
     "text": [
      "/tmp/ipykernel_18/740489956.py:11: FutureWarning: The behavior of DataFrame concatenation with empty or all-NA entries is deprecated. In a future version, this will no longer exclude empty or all-NA columns when determining the result dtypes. To retain the old behavior, exclude the relevant entries before the concat operation.\n",
      "  team = pd.concat([team, _players])\n"
     ]
    }
   ],
   "source": [
    "num_goalkeeper, num_defense, num_midfields, num_forward = 1, 4, 3, 3\n",
    "team = pd.DataFrame(data = None, columns = question1.columns, index = question1.index).head(0)\n",
    "\n",
    "for _pos in question1[\"position\"].unique():\n",
    "    if _pos == \"goalkeepers\":\n",
    "        _players = question1[question1[\"position\"] == _pos].sort_values(\"overall/value ratio\", ascending = True).head(1)\n",
    "    elif _pos == \"defenders\":\n",
    "        _players = question1[question1[\"position\"] == _pos].sort_values(\"overall/value ratio\", ascending = True).head(4)\n",
    "    else:\n",
    "        _players = question1[question1[\"position\"] == _pos].sort_values(\"overall/value ratio\", ascending = True).head(3)\n",
    "    team = pd.concat([team, _players])"
   ]
  },
  {
   "cell_type": "markdown",
   "id": "0995be2f",
   "metadata": {
    "papermill": {
     "duration": 0.038115,
     "end_time": "2024-07-04T11:59:35.890391",
     "exception": false,
     "start_time": "2024-07-04T11:59:35.852276",
     "status": "completed"
    },
    "tags": []
   },
   "source": [
    "* located players with best value to overall value assembled into team"
   ]
  },
  {
   "cell_type": "code",
   "execution_count": 45,
   "id": "723898cc",
   "metadata": {
    "execution": {
     "iopub.execute_input": "2024-07-04T11:59:35.968094Z",
     "iopub.status.busy": "2024-07-04T11:59:35.967692Z",
     "iopub.status.idle": "2024-07-04T11:59:35.983254Z",
     "shell.execute_reply": "2024-07-04T11:59:35.982077Z"
    },
    "papermill": {
     "duration": 0.057546,
     "end_time": "2024-07-04T11:59:35.985767",
     "exception": false,
     "start_time": "2024-07-04T11:59:35.928221",
     "status": "completed"
    },
    "tags": []
   },
   "outputs": [
    {
     "data": {
      "text/html": [
       "<div>\n",
       "<style scoped>\n",
       "    .dataframe tbody tr th:only-of-type {\n",
       "        vertical-align: middle;\n",
       "    }\n",
       "\n",
       "    .dataframe tbody tr th {\n",
       "        vertical-align: top;\n",
       "    }\n",
       "\n",
       "    .dataframe thead th {\n",
       "        text-align: right;\n",
       "    }\n",
       "</style>\n",
       "<table border=\"1\" class=\"dataframe\">\n",
       "  <thead>\n",
       "    <tr style=\"text-align: right;\">\n",
       "      <th></th>\n",
       "      <th>position</th>\n",
       "      <th>value_mln_eur</th>\n",
       "      <th>short_name</th>\n",
       "      <th>overall</th>\n",
       "      <th>overall/value ratio</th>\n",
       "    </tr>\n",
       "  </thead>\n",
       "  <tbody>\n",
       "    <tr>\n",
       "      <th>1145</th>\n",
       "      <td>forward</td>\n",
       "      <td>2.400</td>\n",
       "      <td>R. Sambueza</td>\n",
       "      <td>76</td>\n",
       "      <td>0.031579</td>\n",
       "    </tr>\n",
       "    <tr>\n",
       "      <th>878</th>\n",
       "      <td>forward</td>\n",
       "      <td>3.400</td>\n",
       "      <td>M. Valbuena</td>\n",
       "      <td>77</td>\n",
       "      <td>0.044156</td>\n",
       "    </tr>\n",
       "    <tr>\n",
       "      <th>863</th>\n",
       "      <td>forward</td>\n",
       "      <td>3.400</td>\n",
       "      <td>Quaresma</td>\n",
       "      <td>77</td>\n",
       "      <td>0.044156</td>\n",
       "    </tr>\n",
       "    <tr>\n",
       "      <th>1138</th>\n",
       "      <td>midfield</td>\n",
       "      <td>1.500</td>\n",
       "      <td>A. Hutchinson</td>\n",
       "      <td>76</td>\n",
       "      <td>0.019737</td>\n",
       "    </tr>\n",
       "    <tr>\n",
       "      <th>883</th>\n",
       "      <td>midfield</td>\n",
       "      <td>2.100</td>\n",
       "      <td>M. Hasebe</td>\n",
       "      <td>77</td>\n",
       "      <td>0.027273</td>\n",
       "    </tr>\n",
       "    <tr>\n",
       "      <th>1041</th>\n",
       "      <td>midfield</td>\n",
       "      <td>2.100</td>\n",
       "      <td>Wagner Laranjo</td>\n",
       "      <td>77</td>\n",
       "      <td>0.027273</td>\n",
       "    </tr>\n",
       "    <tr>\n",
       "      <th>1141</th>\n",
       "      <td>goalkeepers</td>\n",
       "      <td>0.825</td>\n",
       "      <td>Iván Cuéllar</td>\n",
       "      <td>76</td>\n",
       "      <td>0.010855</td>\n",
       "    </tr>\n",
       "    <tr>\n",
       "      <th>1142</th>\n",
       "      <td>defenders</td>\n",
       "      <td>1.300</td>\n",
       "      <td>J. Pinola</td>\n",
       "      <td>76</td>\n",
       "      <td>0.017105</td>\n",
       "    </tr>\n",
       "    <tr>\n",
       "      <th>1147</th>\n",
       "      <td>defenders</td>\n",
       "      <td>1.300</td>\n",
       "      <td>Dante</td>\n",
       "      <td>76</td>\n",
       "      <td>0.017105</td>\n",
       "    </tr>\n",
       "    <tr>\n",
       "      <th>1144</th>\n",
       "      <td>defenders</td>\n",
       "      <td>2.300</td>\n",
       "      <td>G. Clichy</td>\n",
       "      <td>76</td>\n",
       "      <td>0.030263</td>\n",
       "    </tr>\n",
       "    <tr>\n",
       "      <th>1167</th>\n",
       "      <td>defenders</td>\n",
       "      <td>2.400</td>\n",
       "      <td>M. Cáceres</td>\n",
       "      <td>76</td>\n",
       "      <td>0.031579</td>\n",
       "    </tr>\n",
       "  </tbody>\n",
       "</table>\n",
       "</div>"
      ],
      "text/plain": [
       "         position  value_mln_eur      short_name overall  overall/value ratio\n",
       "1145      forward          2.400     R. Sambueza      76             0.031579\n",
       "878       forward          3.400     M. Valbuena      77             0.044156\n",
       "863       forward          3.400        Quaresma      77             0.044156\n",
       "1138     midfield          1.500   A. Hutchinson      76             0.019737\n",
       "883      midfield          2.100       M. Hasebe      77             0.027273\n",
       "1041     midfield          2.100  Wagner Laranjo      77             0.027273\n",
       "1141  goalkeepers          0.825    Iván Cuéllar      76             0.010855\n",
       "1142    defenders          1.300       J. Pinola      76             0.017105\n",
       "1147    defenders          1.300           Dante      76             0.017105\n",
       "1144    defenders          2.300       G. Clichy      76             0.030263\n",
       "1167    defenders          2.400      M. Cáceres      76             0.031579"
      ]
     },
     "execution_count": 45,
     "metadata": {},
     "output_type": "execute_result"
    }
   ],
   "source": [
    "team"
   ]
  },
  {
   "cell_type": "markdown",
   "id": "dba6df22",
   "metadata": {
    "papermill": {
     "duration": 0.038651,
     "end_time": "2024-07-04T11:59:36.063453",
     "exception": false,
     "start_time": "2024-07-04T11:59:36.024802",
     "status": "completed"
    },
    "tags": []
   },
   "source": [
    "## Conclusion :  best possible team assembled with lowest possible price can be bought for tens milions. Its nice to see Quaresma in this squat due to his underrated scores."
   ]
  },
  {
   "cell_type": "markdown",
   "id": "4934c794",
   "metadata": {
    "papermill": {
     "duration": 0.039414,
     "end_time": "2024-07-04T11:59:36.141123",
     "exception": false,
     "start_time": "2024-07-04T11:59:36.101709",
     "status": "completed"
    },
    "tags": []
   },
   "source": [
    "## Q : Which countries have best and worst prodigies based on potential score?"
   ]
  },
  {
   "cell_type": "code",
   "execution_count": 46,
   "id": "5104b081",
   "metadata": {
    "execution": {
     "iopub.execute_input": "2024-07-04T11:59:36.220470Z",
     "iopub.status.busy": "2024-07-04T11:59:36.220024Z",
     "iopub.status.idle": "2024-07-04T11:59:36.237885Z",
     "shell.execute_reply": "2024-07-04T11:59:36.236526Z"
    },
    "papermill": {
     "duration": 0.061159,
     "end_time": "2024-07-04T11:59:36.240561",
     "exception": false,
     "start_time": "2024-07-04T11:59:36.179402",
     "status": "completed"
    },
    "tags": []
   },
   "outputs": [],
   "source": [
    "question2 = pd.concat([player_international[[\"nationality_name\"]], skills[[\"potential\"]]], axis = 1)\n",
    "question2 = question2.groupby(\"nationality_name\").mean(\"potential\")\n",
    "top5 = question2.sort_values(\"potential\", ascending = False).reset_index().head(5)\n",
    "bottom5 = question2.sort_values(\"potential\", ascending = True).reset_index().head(5)"
   ]
  },
  {
   "cell_type": "code",
   "execution_count": 47,
   "id": "6a0fecb9",
   "metadata": {
    "execution": {
     "iopub.execute_input": "2024-07-04T11:59:36.319099Z",
     "iopub.status.busy": "2024-07-04T11:59:36.318703Z",
     "iopub.status.idle": "2024-07-04T11:59:36.668641Z",
     "shell.execute_reply": "2024-07-04T11:59:36.667267Z"
    },
    "papermill": {
     "duration": 0.392693,
     "end_time": "2024-07-04T11:59:36.671346",
     "exception": false,
     "start_time": "2024-07-04T11:59:36.278653",
     "status": "completed"
    },
    "tags": []
   },
   "outputs": [
    {
     "data": {
      "image/png": "[encoded data removed]",
      "text/plain": [
       "<Figure size 1200x400 with 1 Axes>"
      ]
     },
     "metadata": {},
     "output_type": "display_data"
    }
   ],
   "source": [
    "data = pd.concat([bottom5, top5], axis = 0).sort_values(\"potential\")\n",
    "data[\"color\"] = [\"red\" if _potential < 70 else \"green\" for _potential in data[\"potential\"]]\n",
    "\n",
    "fig = plt.figure(figsize = (12,4))\n",
    "plt.bar(data[\"nationality_name\"], data[\"potential\"], color = data[\"color\"])\n",
    "plt.grid(True)\n",
    "plt.title(\"top 5 and bottom 5 countries in terms of potential of their players\")\n",
    "plt.show()"
   ]
  },
  {
   "cell_type": "markdown",
   "id": "f0ea1400",
   "metadata": {
    "papermill": {
     "duration": 0.038658,
     "end_time": "2024-07-04T11:59:36.749453",
     "exception": false,
     "start_time": "2024-07-04T11:59:36.710795",
     "status": "completed"
    },
    "tags": []
   },
   "source": [
    "## Conclusion: best prodigy players mainly comes from Europe : Portugal, Ukraine, Estonia. Worst prodigies comes from Asia."
   ]
  },
  {
   "cell_type": "markdown",
   "id": "eec200ca",
   "metadata": {
    "papermill": {
     "duration": 0.038232,
     "end_time": "2024-07-04T11:59:36.827903",
     "exception": false,
     "start_time": "2024-07-04T11:59:36.789671",
     "status": "completed"
    },
    "tags": []
   },
   "source": [
    "## Q : which player over 75 overall points have most balances = less difference between each skills points and vice versa?"
   ]
  },
  {
   "cell_type": "code",
   "execution_count": 48,
   "id": "697c0ae9",
   "metadata": {
    "execution": {
     "iopub.execute_input": "2024-07-04T11:59:36.910277Z",
     "iopub.status.busy": "2024-07-04T11:59:36.909503Z",
     "iopub.status.idle": "2024-07-04T11:59:36.922201Z",
     "shell.execute_reply": "2024-07-04T11:59:36.920952Z"
    },
    "papermill": {
     "duration": 0.05575,
     "end_time": "2024-07-04T11:59:36.925033",
     "exception": false,
     "start_time": "2024-07-04T11:59:36.869283",
     "status": "completed"
    },
    "tags": []
   },
   "outputs": [],
   "source": [
    "skills_list = [\"pace\", \"shooting\", \"passing\", \"dribbling\", \"defending\", \"physic\", \"defending_sliding_tackle\", \"skill_moves\",\"weak_foot_points\"]\n",
    "question3 = pd.concat([skills[skills_list],player_name[[\"short_name\"]], skills[[\"overall\"]]], axis = 1)\n",
    "question3 = question3[question3[\"overall\"]  > 75 ]\n",
    "question3_before_norm = question3"
   ]
  },
  {
   "cell_type": "markdown",
   "id": "70f9dbb9",
   "metadata": {
    "papermill": {
     "duration": 0.038756,
     "end_time": "2024-07-04T11:59:37.003400",
     "exception": false,
     "start_time": "2024-07-04T11:59:36.964644",
     "status": "completed"
    },
    "tags": []
   },
   "source": [
    "* check for Nan values and remove them"
   ]
  },
  {
   "cell_type": "code",
   "execution_count": 49,
   "id": "c034020a",
   "metadata": {
    "execution": {
     "iopub.execute_input": "2024-07-04T11:59:37.082715Z",
     "iopub.status.busy": "2024-07-04T11:59:37.082306Z",
     "iopub.status.idle": "2024-07-04T11:59:37.091477Z",
     "shell.execute_reply": "2024-07-04T11:59:37.090190Z"
    },
    "papermill": {
     "duration": 0.051431,
     "end_time": "2024-07-04T11:59:37.094045",
     "exception": false,
     "start_time": "2024-07-04T11:59:37.042614",
     "status": "completed"
    },
    "tags": []
   },
   "outputs": [
    {
     "name": "stdout",
     "output_type": "stream",
     "text": [
      "pace number of NaN values : 157\n",
      "shooting number of NaN values : 157\n",
      "passing number of NaN values : 157\n",
      "dribbling number of NaN values : 157\n",
      "defending number of NaN values : 157\n",
      "physic number of NaN values : 157\n",
      "defending_sliding_tackle number of NaN values : 0\n",
      "skill_moves number of NaN values : 0\n",
      "weak_foot_points number of NaN values : 0\n"
     ]
    }
   ],
   "source": [
    "for _skill in skills_list:\n",
    "    print(f\"{_skill} number of NaN values : {question3[_skill].isnull().sum()}\")"
   ]
  },
  {
   "cell_type": "code",
   "execution_count": 50,
   "id": "276ac847",
   "metadata": {
    "execution": {
     "iopub.execute_input": "2024-07-04T11:59:37.173367Z",
     "iopub.status.busy": "2024-07-04T11:59:37.172961Z",
     "iopub.status.idle": "2024-07-04T11:59:37.180691Z",
     "shell.execute_reply": "2024-07-04T11:59:37.179502Z"
    },
    "papermill": {
     "duration": 0.050591,
     "end_time": "2024-07-04T11:59:37.183447",
     "exception": false,
     "start_time": "2024-07-04T11:59:37.132856",
     "status": "completed"
    },
    "tags": []
   },
   "outputs": [],
   "source": [
    "question3 = question3[question3[\"pace\"].notna()]"
   ]
  },
  {
   "cell_type": "markdown",
   "id": "a333c786",
   "metadata": {
    "papermill": {
     "duration": 0.038658,
     "end_time": "2024-07-04T11:59:37.261104",
     "exception": false,
     "start_time": "2024-07-04T11:59:37.222446",
     "status": "completed"
    },
    "tags": []
   },
   "source": [
    "* due to diffrences in scales between skills like dribblind and weak foot I performed normalization"
   ]
  },
  {
   "cell_type": "code",
   "execution_count": 51,
   "id": "b257d892",
   "metadata": {
    "execution": {
     "iopub.execute_input": "2024-07-04T11:59:37.341660Z",
     "iopub.status.busy": "2024-07-04T11:59:37.340668Z",
     "iopub.status.idle": "2024-07-04T11:59:37.366377Z",
     "shell.execute_reply": "2024-07-04T11:59:37.365270Z"
    },
    "papermill": {
     "duration": 0.068773,
     "end_time": "2024-07-04T11:59:37.369160",
     "exception": false,
     "start_time": "2024-07-04T11:59:37.300387",
     "status": "completed"
    },
    "tags": []
   },
   "outputs": [
    {
     "name": "stderr",
     "output_type": "stream",
     "text": [
      "/tmp/ipykernel_18/2090535794.py:8: FutureWarning: Setting an item of incompatible dtype is deprecated and will raise in a future error of pandas. Value '[0.16049383 0.09876543 0.16049383 ... 0.62962963 0.74074074 0.82716049]' has dtype incompatible with int64, please explicitly cast to a compatible dtype first.\n",
      "  question3.loc[:, _skill] = normalization(question3[_skill])\n",
      "/tmp/ipykernel_18/2090535794.py:8: FutureWarning: Setting an item of incompatible dtype is deprecated and will raise in a future error of pandas. Value '[0.66666667 0.66666667 1.         ... 0.33333333 0.         0.        ]' has dtype incompatible with int64, please explicitly cast to a compatible dtype first.\n",
      "  question3.loc[:, _skill] = normalization(question3[_skill])\n",
      "/tmp/ipykernel_18/2090535794.py:8: FutureWarning: Setting an item of incompatible dtype is deprecated and will raise in a future error of pandas. Value '[0.75 0.75 0.75 ... 0.5  0.5  0.25]' has dtype incompatible with int64, please explicitly cast to a compatible dtype first.\n",
      "  question3.loc[:, _skill] = normalization(question3[_skill])\n",
      "/tmp/ipykernel_18/2090535794.py:10: SettingWithCopyWarning: \n",
      "A value is trying to be set on a copy of a slice from a DataFrame.\n",
      "Try using .loc[row_indexer,col_indexer] = value instead\n",
      "\n",
      "See the caveats in the documentation: https://pandas.pydata.org/pandas-docs/stable/user_guide/indexing.html#returning-a-view-versus-a-copy\n",
      "  question3.loc[:, \"diff\"] = abs(question3[skills_list].min(axis=1) - question3[skills_list].max(axis=1))\n"
     ]
    }
   ],
   "source": [
    "def normalization(_col):\n",
    "    _min = _col.min()\n",
    "    _max = _col.max()\n",
    "    return (_col - _min) / (_max - _min)\n",
    "\n",
    "# Assuming skills_list contains column names\n",
    "for _skill in skills_list:\n",
    "    question3.loc[:, _skill] = normalization(question3[_skill])\n",
    "\n",
    "question3.loc[:, \"diff\"] = abs(question3[skills_list].min(axis=1) - question3[skills_list].max(axis=1))\n",
    "\n",
    "most_balanced_player = question3.sort_values(\"diff\", ascending=True).head(1)\n",
    "less_balanced_player = question3.sort_values(\"diff\", ascending=False).head(1)\n"
   ]
  },
  {
   "cell_type": "code",
   "execution_count": 52,
   "id": "d0c620ea",
   "metadata": {
    "execution": {
     "iopub.execute_input": "2024-07-04T11:59:37.450336Z",
     "iopub.status.busy": "2024-07-04T11:59:37.449917Z",
     "iopub.status.idle": "2024-07-04T11:59:38.070558Z",
     "shell.execute_reply": "2024-07-04T11:59:38.069444Z"
    },
    "papermill": {
     "duration": 0.665585,
     "end_time": "2024-07-04T11:59:38.074541",
     "exception": false,
     "start_time": "2024-07-04T11:59:37.408956",
     "status": "completed"
    },
    "tags": []
   },
   "outputs": [
    {
     "data": {
      "image/png": "[encoded data removed]",
      "text/plain": [
       "<Figure size 400x600 with 1 Axes>"
      ]
     },
     "metadata": {},
     "output_type": "display_data"
    }
   ],
   "source": [
    "attributes = skills_list\n",
    "most_balanced_player_values = most_balanced_player[skills_list].iloc[0, : ].tolist()\n",
    "less_balanced_player_values = less_balanced_player[skills_list].iloc[0, : ].tolist()\n",
    "\n",
    "name_most_balanced = most_balanced_player[\"short_name\"].iloc[0]\n",
    "name_less_balanced = less_balanced_player[\"short_name\"].iloc[0]\n",
    "\n",
    "fig, ax = plt.subplots(figsize=(4, 6), subplot_kw=dict(polar=True))\n",
    "\n",
    "num_vars = len(attributes)\n",
    "\n",
    "angles = np.linspace(0,2 * np.pi, num_vars, endpoint=False).tolist()\n",
    "angles += angles[0:1]\n",
    "\n",
    "\n",
    "most_balanced_player_values += most_balanced_player_values[:1]\n",
    "less_balanced_player_values += less_balanced_player_values[:1]\n",
    "\n",
    "ax.set_xticks(angles[:-1])\n",
    "ax.set_xticklabels(attributes)\n",
    "\n",
    "\n",
    "ax.plot(angles, most_balanced_player_values, label=name_most_balanced)\n",
    "ax.fill(angles, most_balanced_player_values, alpha=0.25)\n",
    "\n",
    "ax.plot(angles, less_balanced_player_values, label=name_less_balanced)\n",
    "ax.fill(angles, less_balanced_player_values, alpha=0.25)\n",
    "\n",
    "ax.legend(loc='upper right', bbox_to_anchor=(1.8, 1.1))\n",
    "plt.title(\"Most and Less Balanced Player Over 75 Overall Rating\", loc='center', pad=20)\n",
    "\n",
    "plt.show()"
   ]
  },
  {
   "cell_type": "markdown",
   "id": "962e8b1d",
   "metadata": {
    "papermill": {
     "duration": 0.045128,
     "end_time": "2024-07-04T11:59:38.161128",
     "exception": false,
     "start_time": "2024-07-04T11:59:38.116000",
     "status": "completed"
    },
    "tags": []
   },
   "source": [
    "## Conclusion : biggest differences are present in defending_sliding_tackle, smallest diffrences in defending and physics"
   ]
  },
  {
   "cell_type": "markdown",
   "id": "7964e0a0",
   "metadata": {
    "papermill": {
     "duration": 0.040155,
     "end_time": "2024-07-04T11:59:38.243954",
     "exception": false,
     "start_time": "2024-07-04T11:59:38.203799",
     "status": "completed"
    },
    "tags": []
   },
   "source": [
    "## Q : Does club joined date = days in club affect on player overall? Compare with low tier and high tier league"
   ]
  },
  {
   "cell_type": "code",
   "execution_count": 53,
   "id": "ee0b4e5b",
   "metadata": {
    "execution": {
     "iopub.execute_input": "2024-07-04T11:59:38.327341Z",
     "iopub.status.busy": "2024-07-04T11:59:38.326894Z",
     "iopub.status.idle": "2024-07-04T11:59:38.341624Z",
     "shell.execute_reply": "2024-07-04T11:59:38.340498Z"
    },
    "papermill": {
     "duration": 0.060261,
     "end_time": "2024-07-04T11:59:38.344414",
     "exception": false,
     "start_time": "2024-07-04T11:59:38.284153",
     "status": "completed"
    },
    "tags": []
   },
   "outputs": [],
   "source": [
    "club[\"club_joined\"].isnull().value_counts()\n",
    "club = club[club[\"club_joined\"].notna()]"
   ]
  },
  {
   "cell_type": "code",
   "execution_count": 54,
   "id": "fa412ec0",
   "metadata": {
    "execution": {
     "iopub.execute_input": "2024-07-04T11:59:38.428417Z",
     "iopub.status.busy": "2024-07-04T11:59:38.427982Z",
     "iopub.status.idle": "2024-07-04T11:59:38.936356Z",
     "shell.execute_reply": "2024-07-04T11:59:38.935079Z"
    },
    "papermill": {
     "duration": 0.554186,
     "end_time": "2024-07-04T11:59:38.939273",
     "exception": false,
     "start_time": "2024-07-04T11:59:38.385087",
     "status": "completed"
    },
    "tags": []
   },
   "outputs": [],
   "source": [
    "from datetime import datetime\n",
    "\n",
    "days_diff = []\n",
    "days_join = club[\"club_joined\"].tolist()\n",
    "date_current = \"2014-07-01\"\n",
    "\n",
    "for date_n in days_join:\n",
    "        diff = abs(datetime.strptime(date_current, \"%Y-%m-%d\") - datetime.strptime(date_n, \"%Y-%m-%d\"))\n",
    "        days_diff.append(diff.days)\n"
   ]
  },
  {
   "cell_type": "code",
   "execution_count": 55,
   "id": "1041ae38",
   "metadata": {
    "execution": {
     "iopub.execute_input": "2024-07-04T11:59:39.022164Z",
     "iopub.status.busy": "2024-07-04T11:59:39.021150Z",
     "iopub.status.idle": "2024-07-04T11:59:39.036950Z",
     "shell.execute_reply": "2024-07-04T11:59:39.035727Z"
    },
    "papermill": {
     "duration": 0.059972,
     "end_time": "2024-07-04T11:59:39.039586",
     "exception": false,
     "start_time": "2024-07-04T11:59:38.979614",
     "status": "completed"
    },
    "tags": []
   },
   "outputs": [],
   "source": [
    "club[\"days_diff\"] = days_diff"
   ]
  },
  {
   "cell_type": "code",
   "execution_count": 56,
   "id": "bfe311ab",
   "metadata": {
    "execution": {
     "iopub.execute_input": "2024-07-04T11:59:39.123434Z",
     "iopub.status.busy": "2024-07-04T11:59:39.122227Z",
     "iopub.status.idle": "2024-07-04T11:59:39.138126Z",
     "shell.execute_reply": "2024-07-04T11:59:39.136816Z"
    },
    "papermill": {
     "duration": 0.060892,
     "end_time": "2024-07-04T11:59:39.141045",
     "exception": false,
     "start_time": "2024-07-04T11:59:39.080153",
     "status": "completed"
    },
    "tags": []
   },
   "outputs": [],
   "source": [
    "club[\"club_joined\"] = pd.to_datetime(club[\"club_joined\"])"
   ]
  },
  {
   "cell_type": "code",
   "execution_count": 57,
   "id": "5a3b7bf8",
   "metadata": {
    "execution": {
     "iopub.execute_input": "2024-07-04T11:59:39.224356Z",
     "iopub.status.busy": "2024-07-04T11:59:39.223870Z",
     "iopub.status.idle": "2024-07-04T11:59:39.235384Z",
     "shell.execute_reply": "2024-07-04T11:59:39.233948Z"
    },
    "papermill": {
     "duration": 0.056437,
     "end_time": "2024-07-04T11:59:39.238250",
     "exception": false,
     "start_time": "2024-07-04T11:59:39.181813",
     "status": "completed"
    },
    "tags": []
   },
   "outputs": [],
   "source": [
    "club[\"year\"] = club[\"club_joined\"].dt.year\n",
    "club[\"month\"] = club[\"club_joined\"].dt.month\n",
    "club[\"day\"] = club[\"club_joined\"].dt.day"
   ]
  },
  {
   "cell_type": "code",
   "execution_count": 58,
   "id": "cf69590c",
   "metadata": {
    "execution": {
     "iopub.execute_input": "2024-07-04T11:59:39.322842Z",
     "iopub.status.busy": "2024-07-04T11:59:39.322154Z",
     "iopub.status.idle": "2024-07-04T11:59:39.718198Z",
     "shell.execute_reply": "2024-07-04T11:59:39.716938Z"
    },
    "papermill": {
     "duration": 0.440609,
     "end_time": "2024-07-04T11:59:39.720774",
     "exception": false,
     "start_time": "2024-07-04T11:59:39.280165",
     "status": "completed"
    },
    "tags": []
   },
   "outputs": [
    {
     "data": {
      "image/png": "[encoded data removed]",
      "text/plain": [
       "<Figure size 640x480 with 1 Axes>"
      ]
     },
     "metadata": {},
     "output_type": "display_data"
    }
   ],
   "source": [
    "plt.hist(club[\"days_diff\"])\n",
    "plt.xticks(range(0,3000,500))\n",
    "plt.xlim(club[\"days_diff\"].min(), club[\"days_diff\"].max())\n",
    "plt.show()"
   ]
  },
  {
   "cell_type": "code",
   "execution_count": 59,
   "id": "3ac28ad2",
   "metadata": {
    "execution": {
     "iopub.execute_input": "2024-07-04T11:59:39.803859Z",
     "iopub.status.busy": "2024-07-04T11:59:39.803449Z",
     "iopub.status.idle": "2024-07-04T11:59:39.817407Z",
     "shell.execute_reply": "2024-07-04T11:59:39.816393Z"
    },
    "papermill": {
     "duration": 0.058718,
     "end_time": "2024-07-04T11:59:39.820130",
     "exception": false,
     "start_time": "2024-07-04T11:59:39.761412",
     "status": "completed"
    },
    "tags": []
   },
   "outputs": [
    {
     "data": {
      "text/plain": [
       "league_name\n",
       "USA Major League Soccer          747\n",
       "English League Championship      668\n",
       "Argentina Primera División       652\n",
       "English Premier League           632\n",
       "Spain Primera Division           588\n",
       "Japanese J. League Division 1    568\n",
       "Spanish Segunda División         552\n",
       "English League One               549\n",
       "English League Two               544\n",
       "French Ligue 1                   538\n",
       "German 1. Bundesliga             524\n",
       "German 3. Bundesliga             513\n",
       "Turkish Süper Lig                498\n",
       "French Ligue 2                   497\n",
       "Polish T-Mobile Ekstraklasa      485\n",
       "Name: count, dtype: int64"
      ]
     },
     "execution_count": 59,
     "metadata": {},
     "output_type": "execute_result"
    }
   ],
   "source": [
    "club[\"league_name\"].value_counts().sort_values(ascending = False)[0:15]"
   ]
  },
  {
   "cell_type": "code",
   "execution_count": 60,
   "id": "06f01304",
   "metadata": {
    "execution": {
     "iopub.execute_input": "2024-07-04T11:59:39.906074Z",
     "iopub.status.busy": "2024-07-04T11:59:39.905105Z",
     "iopub.status.idle": "2024-07-04T11:59:39.944475Z",
     "shell.execute_reply": "2024-07-04T11:59:39.943187Z"
    },
    "papermill": {
     "duration": 0.086109,
     "end_time": "2024-07-04T11:59:39.947609",
     "exception": false,
     "start_time": "2024-07-04T11:59:39.861500",
     "status": "completed"
    },
    "tags": []
   },
   "outputs": [],
   "source": [
    "question4 = club.join(skills.set_index(\"sofifa_id\"), how = \"inner\",  on='sofifa_id')[[\"days_diff\", \"overall\", \"league_name\"]]"
   ]
  },
  {
   "cell_type": "code",
   "execution_count": 61,
   "id": "244e7103",
   "metadata": {
    "execution": {
     "iopub.execute_input": "2024-07-04T11:59:40.033143Z",
     "iopub.status.busy": "2024-07-04T11:59:40.032740Z",
     "iopub.status.idle": "2024-07-04T11:59:40.615823Z",
     "shell.execute_reply": "2024-07-04T11:59:40.614646Z"
    },
    "papermill": {
     "duration": 0.628288,
     "end_time": "2024-07-04T11:59:40.618361",
     "exception": false,
     "start_time": "2024-07-04T11:59:39.990073",
     "status": "completed"
    },
    "tags": []
   },
   "outputs": [
    {
     "data": {
      "image/png": "[encoded data removed]",
      "text/plain": [
       "<Figure size 1000x500 with 2 Axes>"
      ]
     },
     "metadata": {},
     "output_type": "display_data"
    }
   ],
   "source": [
    "fig, axes = plt.subplots(nrows = 1, ncols = 2, figsize = (10,5))\n",
    "\n",
    "premier_league = question4[question4[\"league_name\"] == \"English Premier League\"]\n",
    "Ekstraklasa = question4[question4[\"league_name\"] == \"Polish T-Mobile Ekstraklasa\"]\n",
    "\n",
    "axes[0].scatter(premier_league[\"days_diff\"], premier_league[\"overall\"])\n",
    "axes[1].scatter(Ekstraklasa[\"days_diff\"], Ekstraklasa[\"overall\"])\n",
    "\n",
    "plt.tight_layout()\n",
    "plt.show()"
   ]
  },
  {
   "cell_type": "markdown",
   "id": "127ef807",
   "metadata": {
    "papermill": {
     "duration": 0.041839,
     "end_time": "2024-07-04T11:59:40.702251",
     "exception": false,
     "start_time": "2024-07-04T11:59:40.660412",
     "status": "completed"
    },
    "tags": []
   },
   "source": [
    "## Consclusion : premier league has more young players with fresh contracts and high overall scores, ekstraklasa has lot more long term players "
   ]
  },
  {
   "cell_type": "markdown",
   "id": "ac9ff3c1",
   "metadata": {
    "papermill": {
     "duration": 0.041734,
     "end_time": "2024-07-04T11:59:40.786049",
     "exception": false,
     "start_time": "2024-07-04T11:59:40.744315",
     "status": "completed"
    },
    "tags": []
   },
   "source": [
    "## Q:  In table format describe top 5 and bottom 5 clubs from premier league in terms of work_rate and compare their finances"
   ]
  },
  {
   "cell_type": "code",
   "execution_count": 62,
   "id": "2ac04afe",
   "metadata": {
    "execution": {
     "iopub.execute_input": "2024-07-04T11:59:40.875127Z",
     "iopub.status.busy": "2024-07-04T11:59:40.874727Z",
     "iopub.status.idle": "2024-07-04T11:59:40.965340Z",
     "shell.execute_reply": "2024-07-04T11:59:40.964068Z"
    },
    "papermill": {
     "duration": 0.139563,
     "end_time": "2024-07-04T11:59:40.968030",
     "exception": false,
     "start_time": "2024-07-04T11:59:40.828467",
     "status": "completed"
    },
    "tags": []
   },
   "outputs": [
    {
     "data": {
      "text/html": [
       "<div>\n",
       "<style scoped>\n",
       "    .dataframe tbody tr th:only-of-type {\n",
       "        vertical-align: middle;\n",
       "    }\n",
       "\n",
       "    .dataframe tbody tr th {\n",
       "        vertical-align: top;\n",
       "    }\n",
       "\n",
       "    .dataframe thead th {\n",
       "        text-align: right;\n",
       "    }\n",
       "</style>\n",
       "<table border=\"1\" class=\"dataframe\">\n",
       "  <thead>\n",
       "    <tr style=\"text-align: right;\">\n",
       "      <th></th>\n",
       "      <th>club_name</th>\n",
       "      <th>wage_k_eur</th>\n",
       "      <th>release_clause_mln_eur</th>\n",
       "      <th>value_mln_eur</th>\n",
       "      <th>work_rate</th>\n",
       "    </tr>\n",
       "  </thead>\n",
       "  <tbody>\n",
       "    <tr>\n",
       "      <th>11</th>\n",
       "      <td>Manchester City</td>\n",
       "      <td>112.825000</td>\n",
       "      <td>78.485375</td>\n",
       "      <td>1299.510</td>\n",
       "      <td>2.531250</td>\n",
       "    </tr>\n",
       "    <tr>\n",
       "      <th>8</th>\n",
       "      <td>Leeds United</td>\n",
       "      <td>37.529032</td>\n",
       "      <td>17.977419</td>\n",
       "      <td>274.950</td>\n",
       "      <td>2.516129</td>\n",
       "    </tr>\n",
       "    <tr>\n",
       "      <th>12</th>\n",
       "      <td>Manchester United</td>\n",
       "      <td>103.242424</td>\n",
       "      <td>58.713576</td>\n",
       "      <td>1008.730</td>\n",
       "      <td>2.484848</td>\n",
       "    </tr>\n",
       "    <tr>\n",
       "      <th>14</th>\n",
       "      <td>Norwich City</td>\n",
       "      <td>18.100000</td>\n",
       "      <td>9.058767</td>\n",
       "      <td>124.640</td>\n",
       "      <td>2.433333</td>\n",
       "    </tr>\n",
       "    <tr>\n",
       "      <th>16</th>\n",
       "      <td>Tottenham Hotspur</td>\n",
       "      <td>63.935484</td>\n",
       "      <td>41.306452</td>\n",
       "      <td>653.100</td>\n",
       "      <td>2.419355</td>\n",
       "    </tr>\n",
       "    <tr>\n",
       "      <th>17</th>\n",
       "      <td>Watford</td>\n",
       "      <td>29.740741</td>\n",
       "      <td>9.241926</td>\n",
       "      <td>122.225</td>\n",
       "      <td>2.222222</td>\n",
       "    </tr>\n",
       "    <tr>\n",
       "      <th>19</th>\n",
       "      <td>Wolverhampton Wanderers</td>\n",
       "      <td>41.290323</td>\n",
       "      <td>19.142194</td>\n",
       "      <td>297.080</td>\n",
       "      <td>2.161290</td>\n",
       "    </tr>\n",
       "    <tr>\n",
       "      <th>5</th>\n",
       "      <td>Chelsea</td>\n",
       "      <td>90.937500</td>\n",
       "      <td>53.985219</td>\n",
       "      <td>894.650</td>\n",
       "      <td>2.093750</td>\n",
       "    </tr>\n",
       "    <tr>\n",
       "      <th>4</th>\n",
       "      <td>Burnley</td>\n",
       "      <td>22.454545</td>\n",
       "      <td>10.967758</td>\n",
       "      <td>184.850</td>\n",
       "      <td>2.090909</td>\n",
       "    </tr>\n",
       "    <tr>\n",
       "      <th>13</th>\n",
       "      <td>Newcastle United</td>\n",
       "      <td>25.812500</td>\n",
       "      <td>11.623281</td>\n",
       "      <td>187.475</td>\n",
       "      <td>2.062500</td>\n",
       "    </tr>\n",
       "  </tbody>\n",
       "</table>\n",
       "</div>"
      ],
      "text/plain": [
       "                  club_name  wage_k_eur  release_clause_mln_eur  \\\n",
       "11          Manchester City  112.825000               78.485375   \n",
       "8              Leeds United   37.529032               17.977419   \n",
       "12        Manchester United  103.242424               58.713576   \n",
       "14             Norwich City   18.100000                9.058767   \n",
       "16        Tottenham Hotspur   63.935484               41.306452   \n",
       "17                  Watford   29.740741                9.241926   \n",
       "19  Wolverhampton Wanderers   41.290323               19.142194   \n",
       "5                   Chelsea   90.937500               53.985219   \n",
       "4                   Burnley   22.454545               10.967758   \n",
       "13         Newcastle United   25.812500               11.623281   \n",
       "\n",
       "    value_mln_eur  work_rate  \n",
       "11       1299.510   2.531250  \n",
       "8         274.950   2.516129  \n",
       "12       1008.730   2.484848  \n",
       "14        124.640   2.433333  \n",
       "16        653.100   2.419355  \n",
       "17        122.225   2.222222  \n",
       "19        297.080   2.161290  \n",
       "5         894.650   2.093750  \n",
       "4         184.850   2.090909  \n",
       "13        187.475   2.062500  "
      ]
     },
     "execution_count": 62,
     "metadata": {},
     "output_type": "execute_result"
    }
   ],
   "source": [
    "question5 = skills.join(club.set_index(\"sofifa_id\"), how = \"inner\", on = \"sofifa_id\")\n",
    "question5 = question5.join(player_finance.set_index(\"sofifa_id\"), how=\"inner\", on=\"sofifa_id\")\n",
    "question5 = question5[question5[\"league_name\"].isin([\"English Premier League\"])]\n",
    "question5[\"work_rate\"] = question5[\"work_rate\"].str.split(\"/\", expand = True)[0]\n",
    "mapping = {\"High\" : 3, \"Medium\" : 2, \"Low\" : 1}\n",
    "question5[\"work_rate\"] = question5[\"work_rate\"].map(mapping)\n",
    "cols = list(question5.columns[question5.columns.str.contains(\"eur\")]) + [\"work_rate\", \"club_name\"]\n",
    "question5 = question5[cols]\n",
    "question5_grouped = question5.groupby(\"club_name\").agg({\n",
    "    'wage_k_eur': 'mean',\n",
    "    'release_clause_mln_eur': 'mean',\n",
    "    'value_mln_eur': 'sum',\n",
    "    'work_rate': 'mean'\n",
    "}).reset_index().sort_values(\"work_rate\", ascending = False)\n",
    "pd.concat([question5_grouped.head(5), question5_grouped.tail(5)])"
   ]
  },
  {
   "cell_type": "markdown",
   "id": "b7cceba7",
   "metadata": {
    "papermill": {
     "duration": 0.042807,
     "end_time": "2024-07-04T11:59:41.053578",
     "exception": false,
     "start_time": "2024-07-04T11:59:41.010771",
     "status": "completed"
    },
    "tags": []
   },
   "source": [
    "## Q : Is there a correlation between work rate and club worth?"
   ]
  },
  {
   "cell_type": "code",
   "execution_count": 63,
   "id": "f90a7bcb",
   "metadata": {
    "execution": {
     "iopub.execute_input": "2024-07-04T11:59:41.140562Z",
     "iopub.status.busy": "2024-07-04T11:59:41.140151Z",
     "iopub.status.idle": "2024-07-04T11:59:41.148583Z",
     "shell.execute_reply": "2024-07-04T11:59:41.147387Z"
    },
    "papermill": {
     "duration": 0.054974,
     "end_time": "2024-07-04T11:59:41.151125",
     "exception": false,
     "start_time": "2024-07-04T11:59:41.096151",
     "status": "completed"
    },
    "tags": []
   },
   "outputs": [
    {
     "name": "stdout",
     "output_type": "stream",
     "text": [
      "correlation between work rate and club worth : 0.196, thats means there is little positive correlation\n"
     ]
    }
   ],
   "source": [
    "corr = question5['work_rate'].corr(question5['value_mln_eur'], method='pearson')\n",
    "print(f\"correlation between work rate and club worth : {round(corr, 3)}, thats means there is little positive correlation\")"
   ]
  },
  {
   "cell_type": "code",
   "execution_count": 64,
   "id": "c38d87d9",
   "metadata": {
    "execution": {
     "iopub.execute_input": "2024-07-04T11:59:41.238375Z",
     "iopub.status.busy": "2024-07-04T11:59:41.237956Z",
     "iopub.status.idle": "2024-07-04T11:59:41.661409Z",
     "shell.execute_reply": "2024-07-04T11:59:41.660270Z"
    },
    "papermill": {
     "duration": 0.470139,
     "end_time": "2024-07-04T11:59:41.664044",
     "exception": false,
     "start_time": "2024-07-04T11:59:41.193905",
     "status": "completed"
    },
    "tags": []
   },
   "outputs": [
    {
     "name": "stderr",
     "output_type": "stream",
     "text": [
      "/tmp/ipykernel_18/3136070379.py:5: FutureWarning: Calling float on a single element Series is deprecated and will raise a TypeError in the future. Use float(ser.iloc[0]) instead\n",
      "  plt.text(float(question5_grouped[question5_grouped[\"club_name\"] == club_][\"work_rate\"]) + 0.005, float(question5_grouped[question5_grouped[\"club_name\"] == club_][\"value_mln_eur\"]),\n"
     ]
    },
    {
     "data": {
      "image/png": "[encoded data removed]",
      "text/plain": [
       "<Figure size 1200x800 with 1 Axes>"
      ]
     },
     "metadata": {},
     "output_type": "display_data"
    }
   ],
   "source": [
    "plt.figure(figsize=(12, 8))\n",
    "plt.scatter(question5_grouped['work_rate'], question5_grouped['value_mln_eur'], marker='o', color='blue', alpha=0.7)\n",
    "\n",
    "for i, club_ in enumerate(question5_grouped['club_name']):\n",
    "    plt.text(float(question5_grouped[question5_grouped[\"club_name\"] == club_][\"work_rate\"]) + 0.005, float(question5_grouped[question5_grouped[\"club_name\"] == club_][\"value_mln_eur\"]), \n",
    "             club_, fontsize=9, ha='left', va='center')\n",
    "\n",
    "plt.title('work rate vs club worth')\n",
    "plt.ylabel('club worth')\n",
    "plt.xlabel('work rate')\n",
    "plt.grid(True)\n",
    "\n",
    "plt.show()"
   ]
  },
  {
   "cell_type": "markdown",
   "id": "436fec90",
   "metadata": {
    "papermill": {
     "duration": 0.043851,
     "end_time": "2024-07-04T11:59:41.751774",
     "exception": false,
     "start_time": "2024-07-04T11:59:41.707923",
     "status": "completed"
    },
    "tags": []
   },
   "source": [
    "## Conclusion: Manchester City has biggest work rate along with biggest wage and value.  Chelsea, despite being one of the best teams, have an inappropriately low work rate, unlike Leeds United"
   ]
  },
  {
   "cell_type": "markdown",
   "id": "3ffc7420",
   "metadata": {
    "papermill": {
     "duration": 0.044086,
     "end_time": "2024-07-04T11:59:41.839839",
     "exception": false,
     "start_time": "2024-07-04T11:59:41.795753",
     "status": "completed"
    },
    "tags": []
   },
   "source": [
    "## Q : Which nationality contains most players who plays with each other in the same club?"
   ]
  },
  {
   "cell_type": "code",
   "execution_count": 65,
   "id": "b0b9ef94",
   "metadata": {
    "execution": {
     "iopub.execute_input": "2024-07-04T11:59:41.934659Z",
     "iopub.status.busy": "2024-07-04T11:59:41.933437Z",
     "iopub.status.idle": "2024-07-04T11:59:42.002131Z",
     "shell.execute_reply": "2024-07-04T11:59:42.001002Z"
    },
    "papermill": {
     "duration": 0.118329,
     "end_time": "2024-07-04T11:59:42.005373",
     "exception": false,
     "start_time": "2024-07-04T11:59:41.887044",
     "status": "completed"
    },
    "tags": []
   },
   "outputs": [
    {
     "data": {
      "text/html": [
       "<div>\n",
       "<style scoped>\n",
       "    .dataframe tbody tr th:only-of-type {\n",
       "        vertical-align: middle;\n",
       "    }\n",
       "\n",
       "    .dataframe tbody tr th {\n",
       "        vertical-align: top;\n",
       "    }\n",
       "\n",
       "    .dataframe thead th {\n",
       "        text-align: right;\n",
       "    }\n",
       "</style>\n",
       "<table border=\"1\" class=\"dataframe\">\n",
       "  <thead>\n",
       "    <tr style=\"text-align: right;\">\n",
       "      <th></th>\n",
       "      <th>club_name</th>\n",
       "      <th>nationality_name</th>\n",
       "      <th>count_max</th>\n",
       "      <th>count</th>\n",
       "      <th>percentage</th>\n",
       "    </tr>\n",
       "  </thead>\n",
       "  <tbody>\n",
       "    <tr>\n",
       "      <th>950</th>\n",
       "      <td>Ceará Sporting Club</td>\n",
       "      <td>Brazil</td>\n",
       "      <td>20</td>\n",
       "      <td>20</td>\n",
       "      <td>100.000000</td>\n",
       "    </tr>\n",
       "    <tr>\n",
       "      <th>4587</th>\n",
       "      <td>São Paulo</td>\n",
       "      <td>Brazil</td>\n",
       "      <td>20</td>\n",
       "      <td>20</td>\n",
       "      <td>100.000000</td>\n",
       "    </tr>\n",
       "    <tr>\n",
       "      <th>2133</th>\n",
       "      <td>Fortaleza</td>\n",
       "      <td>Brazil</td>\n",
       "      <td>20</td>\n",
       "      <td>20</td>\n",
       "      <td>100.000000</td>\n",
       "    </tr>\n",
       "    <tr>\n",
       "      <th>4417</th>\n",
       "      <td>Sport Club Corinthians Paulista</td>\n",
       "      <td>Brazil</td>\n",
       "      <td>20</td>\n",
       "      <td>20</td>\n",
       "      <td>100.000000</td>\n",
       "    </tr>\n",
       "    <tr>\n",
       "      <th>2334</th>\n",
       "      <td>Grêmio</td>\n",
       "      <td>Brazil</td>\n",
       "      <td>20</td>\n",
       "      <td>20</td>\n",
       "      <td>100.000000</td>\n",
       "    </tr>\n",
       "    <tr>\n",
       "      <th>752</th>\n",
       "      <td>Brentford</td>\n",
       "      <td>Denmark</td>\n",
       "      <td>7</td>\n",
       "      <td>32</td>\n",
       "      <td>21.875000</td>\n",
       "    </tr>\n",
       "    <tr>\n",
       "      <th>3446</th>\n",
       "      <td>PAOK</td>\n",
       "      <td>Greece</td>\n",
       "      <td>6</td>\n",
       "      <td>28</td>\n",
       "      <td>21.428571</td>\n",
       "    </tr>\n",
       "    <tr>\n",
       "      <th>1883</th>\n",
       "      <td>FC Red Bull Salzburg</td>\n",
       "      <td>Austria</td>\n",
       "      <td>6</td>\n",
       "      <td>28</td>\n",
       "      <td>21.428571</td>\n",
       "    </tr>\n",
       "    <tr>\n",
       "      <th>2820</th>\n",
       "      <td>LOSC Lille</td>\n",
       "      <td>France</td>\n",
       "      <td>6</td>\n",
       "      <td>29</td>\n",
       "      <td>20.689655</td>\n",
       "    </tr>\n",
       "    <tr>\n",
       "      <th>4774</th>\n",
       "      <td>Udinese Calcio</td>\n",
       "      <td>Brazil</td>\n",
       "      <td>3</td>\n",
       "      <td>22</td>\n",
       "      <td>13.636364</td>\n",
       "    </tr>\n",
       "  </tbody>\n",
       "</table>\n",
       "</div>"
      ],
      "text/plain": [
       "                            club_name nationality_name  count_max  count  \\\n",
       "950               Ceará Sporting Club           Brazil         20     20   \n",
       "4587                        São Paulo           Brazil         20     20   \n",
       "2133                        Fortaleza           Brazil         20     20   \n",
       "4417  Sport Club Corinthians Paulista           Brazil         20     20   \n",
       "2334                           Grêmio           Brazil         20     20   \n",
       "752                         Brentford          Denmark          7     32   \n",
       "3446                             PAOK           Greece          6     28   \n",
       "1883             FC Red Bull Salzburg          Austria          6     28   \n",
       "2820                       LOSC Lille           France          6     29   \n",
       "4774                   Udinese Calcio           Brazil          3     22   \n",
       "\n",
       "      percentage  \n",
       "950   100.000000  \n",
       "4587  100.000000  \n",
       "2133  100.000000  \n",
       "4417  100.000000  \n",
       "2334  100.000000  \n",
       "752    21.875000  \n",
       "3446   21.428571  \n",
       "1883   21.428571  \n",
       "2820   20.689655  \n",
       "4774   13.636364  "
      ]
     },
     "execution_count": 65,
     "metadata": {},
     "output_type": "execute_result"
    }
   ],
   "source": [
    "question7 = player_international.join(club.set_index(\"sofifa_id\"), how = \"inner\", on= \"sofifa_id\")[[\"nationality_name\", \"club_name\"]]\n",
    "question7_grouped = question7.groupby([\"club_name\", \"nationality_name\"]).agg({\n",
    "    'nationality_name': 'count'\n",
    "}).rename(columns={'nationality_name': 'count_max'}).reset_index()\n",
    "question7_grouped = question7_grouped.loc[question7_grouped.groupby(\"club_name\")['count_max'].idxmax()]\n",
    "club_counts = question7[\"club_name\"].value_counts().reset_index()\n",
    "club_counts.columns = ['club_name', 'count']\n",
    "question7 = question7_grouped.join(club_counts.set_index(\"club_name\"), how = \"inner\", on = \"club_name\")\n",
    "question7[\"percentage\"] =  100 * (question7[\"count_max\"] / question7[\"count\"] )\n",
    "question7 = question7.sort_values(\"percentage\", ascending = False)\n",
    "pd.concat([question7.head(5), question7.tail(5)])"
   ]
  },
  {
   "cell_type": "markdown",
   "id": "5f3979c3",
   "metadata": {
    "papermill": {
     "duration": 0.043813,
     "end_time": "2024-07-04T11:59:42.093881",
     "exception": false,
     "start_time": "2024-07-04T11:59:42.050068",
     "status": "completed"
    },
    "tags": []
   },
   "source": [
    "## Conclusion : Brazilians clubs lead in most homogeneous nationalities, lowest percentages approximetly 20 %"
   ]
  },
  {
   "cell_type": "markdown",
   "id": "cf4205b7",
   "metadata": {
    "papermill": {
     "duration": 0.04512,
     "end_time": "2024-07-04T11:59:42.184182",
     "exception": false,
     "start_time": "2024-07-04T11:59:42.139062",
     "status": "completed"
    },
    "tags": []
   },
   "source": [
    "## Q : Which leagues gather most market value in players?"
   ]
  },
  {
   "cell_type": "code",
   "execution_count": 66,
   "id": "bfd9c95e",
   "metadata": {
    "execution": {
     "iopub.execute_input": "2024-07-04T11:59:42.276816Z",
     "iopub.status.busy": "2024-07-04T11:59:42.275993Z",
     "iopub.status.idle": "2024-07-04T11:59:42.310305Z",
     "shell.execute_reply": "2024-07-04T11:59:42.309153Z"
    },
    "papermill": {
     "duration": 0.083901,
     "end_time": "2024-07-04T11:59:42.313228",
     "exception": false,
     "start_time": "2024-07-04T11:59:42.229327",
     "status": "completed"
    },
    "tags": []
   },
   "outputs": [],
   "source": [
    "question8 = club.join(player_finance.set_index('sofifa_id'), on='sofifa_id')\n",
    "question8 = question8[[\"league_name\", \"value_mln_eur\"]]\n",
    "question8_grouped = question8.groupby(\"league_name\")[\"value_mln_eur\"].sum().reset_index().sort_values(by = [\"value_mln_eur\"], ascending = False)\n",
    "question8_grouped_top4 = question8_grouped.head(4)\n",
    "question8_grouped_others = question8_grouped.drop(question8_grouped_top4.index)"
   ]
  },
  {
   "cell_type": "code",
   "execution_count": 67,
   "id": "841ce10b",
   "metadata": {
    "execution": {
     "iopub.execute_input": "2024-07-04T11:59:42.405621Z",
     "iopub.status.busy": "2024-07-04T11:59:42.404378Z",
     "iopub.status.idle": "2024-07-04T11:59:42.600800Z",
     "shell.execute_reply": "2024-07-04T11:59:42.599288Z"
    },
    "papermill": {
     "duration": 0.2469,
     "end_time": "2024-07-04T11:59:42.605499",
     "exception": false,
     "start_time": "2024-07-04T11:59:42.358599",
     "status": "completed"
    },
    "tags": []
   },
   "outputs": [
    {
     "data": {
      "image/png": "[encoded data removed]",
      "text/plain": [
       "<Figure size 640x480 with 1 Axes>"
      ]
     },
     "metadata": {},
     "output_type": "display_data"
    }
   ],
   "source": [
    "leagues = list(question8_grouped_top4[\"league_name\"].unique())\n",
    "value_mln_eur = list(question8_grouped_top4[\"value_mln_eur\"].unique())\n",
    "\n",
    "leagues.append(\"Other Leagues\")\n",
    "value_mln_eur.append(question8_grouped_others[\"value_mln_eur\"].sum())\n",
    "\n",
    "plt.pie(value_mln_eur, labels=leagues, autopct='%1.1f%%', startangle=140)\n",
    "plt.title(\"Value of all players in each leagues\")\n",
    "plt.show()"
   ]
  },
  {
   "cell_type": "markdown",
   "id": "57540e93",
   "metadata": {
    "papermill": {
     "duration": 0.044424,
     "end_time": "2024-07-04T11:59:42.706560",
     "exception": false,
     "start_time": "2024-07-04T11:59:42.662136",
     "status": "completed"
    },
    "tags": []
   },
   "source": [
    "## Conclusion : Big part of the market value (49%) belongs to 4 leagues : Bundesliga, Serie A, Primera Division and Premier League"
   ]
  }
 ],
 "metadata": {
  "kaggle": {
   "accelerator": "none",
   "dataSources": [
    {
     "datasetId": 1617785,
     "sourceId": 2767201,
     "sourceType": "datasetVersion"
    }
   ],
   "dockerImageVersionId": 30732,
   "isGpuEnabled": false,
   "isInternetEnabled": true,
   "language": "python",
   "sourceType": "notebook"
  },
  "kernelspec": {
   "display_name": "Python 3",
   "language": "python",
   "name": "python3"
  },
  "language_info": {
   "codemirror_mode": {
    "name": "ipython",
    "version": 3
   },
   "file_extension": ".py",
   "mimetype": "text/x-python",
   "name": "python",
   "nbconvert_exporter": "python",
   "pygments_lexer": "ipython3",
   "version": "3.10.13"
  },
  "papermill": {
   "default_parameters": {},
   "duration": 27.990282,
   "end_time": "2024-07-04T11:59:43.573561",
   "environment_variables": {},
   "exception": null,
   "input_path": "__notebook__.ipynb",
   "output_path": "__notebook__.ipynb",
   "parameters": {},
   "start_time": "2024-07-04T11:59:15.583279",
   "version": "2.5.0"
  }
 },
 "nbformat": 4,
 "nbformat_minor": 5
}
